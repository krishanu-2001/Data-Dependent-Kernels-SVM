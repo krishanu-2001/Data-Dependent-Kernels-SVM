{
 "cells": [
  {
   "cell_type": "code",
   "execution_count": null,
   "metadata": {},
   "outputs": [],
   "source": [
    "%matplotlib inline \n",
    "import numpy as np \n",
    "import matplotlib.pyplot as plt \n",
    "from scipy import stats \n",
    "# use seaborn plotting defaults \n",
    "import seaborn as sns; sns.set() "
   ]
  },
  {
   "cell_type": "code",
   "execution_count": null,
   "metadata": {},
   "outputs": [],
   "source": [
    "from sklearn.datasets import make_blobs \n",
    "X, y = make_blobs(n_samples=[100, 500], centers=[[3,3], [1,1]], \n",
    "                 random_state=0, cluster_std=[0.80, 1.0]) \n",
    "plt.scatter(X[:, 0], X[:, 1], c=y, s=50, cmap='autumn'); \n"
   ]
  },
  {
   "cell_type": "code",
   "execution_count": null,
   "metadata": {},
   "outputs": [],
   "source": [
    "print(X.shape)\n",
    "print(y.shape)"
   ]
  },
  {
   "cell_type": "code",
   "execution_count": null,
   "metadata": {},
   "outputs": [],
   "source": [
    "from sklearn.svm import SVC # \"Support vector classifier\" \n",
    "from sklearn.metrics.pairwise import laplacian_kernel\n",
    "\n",
    "model = SVC(kernel='linear', C=1E10) \n",
    "model.fit(X, y)"
   ]
  },
  {
   "cell_type": "code",
   "execution_count": null,
   "metadata": {},
   "outputs": [],
   "source": [
    "model.decision_function"
   ]
  },
  {
   "cell_type": "code",
   "execution_count": null,
   "metadata": {},
   "outputs": [],
   "source": [
    "model.support_vectors_"
   ]
  },
  {
   "cell_type": "code",
   "execution_count": null,
   "metadata": {},
   "outputs": [],
   "source": [
    "def plot_svc_decision_function(model, ax=None, plot_support=True): \n",
    "   \"\"\"Plot the decision function for a 2D SVC\"\"\" \n",
    "   if ax is None: \n",
    "       ax = plt.gca() # Get the current Axes instance on the current figure mat ching the given keyword args, or create one. \n",
    "   xlim = ax.get_xlim() \n",
    "   ylim = ax.get_ylim() \n",
    "    \n",
    "   # create grid to evaluate model \n",
    "   x = np.linspace(xlim[0], xlim[1], 30) \n",
    "   y = np.linspace(ylim[0], ylim[1], 30) \n",
    "   Y, X = np.meshgrid(y, x) # 30 x 30 each \n",
    "   xy = np.vstack([X.ravel(), Y.ravel()]).T # 900 x 2 \n",
    "   print(\"size of xy\", xy.shape) \n",
    "    \n",
    "   P = model.decision_function(xy).reshape(X.shape) #model.decision_function(xy) return 900 x 1 \n",
    "   # Returns the decision function of the sample for each class in the model \n",
    "   print(\"size of P\", P.shape) # 30 x 30 \n",
    "   # plot decision boundary and margins   #  draw contour lines \n",
    "   ax.contour(X, Y, P, colors='k', \n",
    "              levels=[-1, 0, 1], alpha=0.5, \n",
    "              linestyles=['--', '-', '--']) \n",
    "    \n",
    "   # plot support vectors \n",
    "   if plot_support: \n",
    "       ax.scatter(model.support_vectors_[:, 0], \n",
    "                  model.support_vectors_[:, 1], \n",
    "                  s=50, linewidth=1, facecolors='Blue'); \n",
    "   ax.set_xlim(xlim) \n",
    "   ax.set_ylim(ylim) "
   ]
  },
  {
   "cell_type": "code",
   "execution_count": null,
   "metadata": {},
   "outputs": [],
   "source": [
    "plt.scatter(X[:, 0], X[:, 1], c=y, s=50, cmap='autumn') \n",
    "plot_svc_decision_function(model)"
   ]
  }
 ],
 "metadata": {
  "language_info": {
   "name": "python"
  },
  "orig_nbformat": 4
 },
 "nbformat": 4,
 "nbformat_minor": 2
}
