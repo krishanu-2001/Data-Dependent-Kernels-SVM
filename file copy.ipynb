{
 "cells": [
  {
   "attachments": {},
   "cell_type": "markdown",
   "metadata": {},
   "source": [
    "# Using Isolation Forests as kernels for SVM\n",
    "\n",
    "This is a short example about using the [isotree](https://www.github.com/david-cortes/isotree) library for fitting an isolation forest model and using this (unsupervised) fitted model for calculating the similarities between each pair of observations, which in turn can be used as a kernel for SVM (support vector machines) for supervised learning tasks.\n",
    "\n",
    "By default, the library calculates a distance metric between observations which is bounded between zero and one. Having these bounds, it can be easily turned into a similarity metric by simply calculating one minus this distance. This similarity metric satisfies the properties of a Hilbert space (https://en.wikipedia.org/wiki/Hilbert_space), being possible to use it as a kernel for support vector machines or as a feature generator.\n",
    "\n",
    "The library includes a function `set_reference_points` which can be used for repeated distance calculations against the same points. Note that this is however a typically very slow and memory-heavy operation, and as such is not recommended for large datasets.\n",
    "\n",
    "The example uses the \"splice scale\" dataset, which can be downloaded from [LibSVM dataset](https://www.csie.ntu.edu.tw/~cjlin/libsvmtools/datasets/). Note that, despite being offered in a sparse matrix format, the data is actually dense.\n",
    "\n",
    "---\n",
    "\n",
    "### Reading the data\n"
   ]
  },
  {
   "cell_type": "code",
   "execution_count": 11,
   "metadata": {},
   "outputs": [
    {
     "name": "stdout",
     "output_type": "stream",
     "text": [
      "(1000, 2)\n"
     ]
    }
   ],
   "source": [
    "from readsparse import read_sparse\n",
    "\n",
    "splice = read_sparse(\"splice_scale.txt\")\n",
    "y = (splice[\"y\"] == 1).astype(\"float64\")\n",
    "X = splice[\"X\"].toarray()\n",
    "X = X[:, 0:2]\n",
    "print(X.shape)\n"
   ]
  },
  {
   "cell_type": "code",
   "execution_count": 12,
   "metadata": {},
   "outputs": [
    {
     "name": "stdout",
     "output_type": "stream",
     "text": [
      "(1000,)\n"
     ]
    }
   ],
   "source": [
    "print(y.shape)"
   ]
  },
  {
   "attachments": {},
   "cell_type": "markdown",
   "metadata": {},
   "source": [
    "## Defining a kernel transformer from isolation forest\n"
   ]
  },
  {
   "cell_type": "code",
   "execution_count": 13,
   "metadata": {},
   "outputs": [
    {
     "name": "stdout",
     "output_type": "stream",
     "text": [
      "[1. 1. 1. 0. 0. 0. 1. 1. 1. 1. 0. 1. 0. 1. 1. 0. 1. 0. 0. 1. 0. 1. 0. 0.\n",
      " 1. 1. 0. 0. 1. 0. 1. 0. 1. 0. 1. 1. 0. 1. 0. 1. 1. 1. 0. 1. 0. 0. 1. 1.\n",
      " 0. 0. 1. 1. 1. 0. 1. 0. 0. 1. 0. 0. 0. 1. 0. 1. 0. 0. 0. 0. 1. 1. 0. 0.\n",
      " 1. 1. 1. 0. 1. 0. 1. 0. 1. 1. 1. 1. 1. 1. 1. 0. 1. 1. 1. 0. 0. 1. 0. 0.\n",
      " 0. 1. 0. 0. 0. 1. 1. 1. 1. 0. 1. 0. 1. 1. 0. 0. 1. 1. 0. 0. 1. 1. 1. 1.\n",
      " 1. 1. 0. 0. 0. 0. 1. 0. 0. 0. 1. 0. 0. 0. 0. 1. 1. 0. 1. 0. 0. 0. 1. 0.\n",
      " 1. 1. 1. 1. 1. 0. 1. 0. 0. 1. 1. 0. 0. 0. 1. 1. 0. 1. 1. 1. 1. 1. 1. 1.\n",
      " 0. 1. 0. 0. 1. 0. 1. 1. 1. 0. 0. 1. 0. 0. 1. 1. 1. 1. 1. 0. 1. 1. 1. 0.\n",
      " 0. 0. 0. 1. 1. 1. 0. 0. 0. 1. 0. 0. 0. 1. 0. 0. 1. 1. 0. 1. 1. 1. 1. 1.\n",
      " 0. 1. 1. 0. 1. 1. 1. 1. 1. 0. 0. 0. 1. 0. 0. 1. 1. 1. 0. 0. 0. 0. 1. 0.\n",
      " 0. 0. 0. 0. 1. 0. 1. 1. 0. 1. 0. 0. 0. 0. 0. 1. 0. 1. 0. 1. 0. 1. 0. 1.\n",
      " 1. 0. 1. 1. 0. 0. 0. 0. 1. 0. 0. 1. 1. 0. 0. 0. 1. 1. 1. 1. 0. 1. 0. 0.\n",
      " 1. 1. 0. 1. 0. 0. 1. 1. 1. 0. 1. 1. 0. 1. 0. 0. 1. 0. 0. 0. 0. 1. 1. 0.\n",
      " 0. 1. 1. 1. 1. 1. 0. 0. 0. 1. 0. 1. 0. 1. 1. 0. 1. 0. 0. 1. 1. 0. 0. 1.\n",
      " 0. 1. 0. 0. 0. 0. 0. 0. 0. 1. 0. 1. 0. 0. 1. 0. 0. 0. 0. 1. 0. 1. 0. 1.\n",
      " 1. 0. 1. 0. 0. 1. 0. 1. 1. 0. 0. 1. 1. 1. 1. 0. 0. 1. 0. 0. 0. 0. 0. 1.\n",
      " 1. 0. 1. 1. 0. 1. 1. 1. 1. 0. 0. 1. 1. 0. 1. 1. 1. 1. 1. 0. 1. 0. 1. 1.\n",
      " 1. 1. 0. 1. 0. 1. 0. 1. 0. 1. 0. 1. 0. 1. 1. 1. 1. 1. 0. 0. 0. 0. 0. 0.\n",
      " 0. 0. 0. 1. 0. 0. 1. 0. 1. 1. 0. 1. 1. 1. 1. 1. 0. 1. 1. 1. 0. 0. 1. 0.\n",
      " 1. 1. 0. 0. 1. 0. 0. 1. 0. 0. 1. 1. 1. 1. 1. 0. 1. 1. 0. 0. 1. 0. 1. 1.\n",
      " 1. 1. 1. 1. 0. 0. 1. 1. 0. 0. 0. 0. 1. 0. 1. 0. 1. 1. 1. 0. 0. 1. 1. 0.\n",
      " 0. 1. 0. 1. 0. 0. 0. 1. 1. 0. 1. 1. 1. 0. 1. 0. 1. 0. 1. 1. 1. 0. 1. 1.\n",
      " 1. 1. 0. 1. 1. 0. 0. 0. 0. 1. 1. 0. 1. 0. 0. 0. 1. 1. 0. 0. 0. 0. 1. 1.\n",
      " 0. 0. 1. 0. 1. 1. 1. 1. 1. 0. 1. 1. 1. 0. 1. 1. 0. 0. 0. 1. 0. 0. 0. 0.\n",
      " 1. 0. 0. 1. 1. 0. 0. 0. 0. 0. 1. 0. 0. 0. 0. 1. 1. 1. 1. 1. 1. 0. 0. 1.\n",
      " 0. 0. 1. 1. 1. 0. 1. 1. 0. 1. 1. 0. 0. 1. 0. 1. 1. 0. 0. 0. 1. 1. 1. 0.\n",
      " 1. 1. 1. 1. 0. 1. 0. 1. 0. 0. 0. 1. 1. 0. 1. 0. 1. 1. 1. 0. 1. 0. 0. 1.\n",
      " 1. 1. 0. 0. 1. 0. 1. 0. 1. 1. 1. 1. 1. 0. 0. 1. 1. 1. 0. 0. 1. 1. 0. 0.\n",
      " 1. 0. 1. 1. 1. 0. 1. 0. 1. 0. 1. 1. 1. 0. 0. 0. 1. 1. 1. 1. 1. 0. 0. 1.\n",
      " 0. 1. 0. 1. 1. 1. 1. 0. 1. 0. 0. 0. 1. 0. 0. 0. 0. 0. 1. 0. 0. 0. 1. 0.\n",
      " 0. 0. 1. 0. 1. 0. 1. 1. 0. 0. 0. 1. 1. 1. 0. 1. 1. 1. 0. 1. 0. 1. 1. 1.\n",
      " 0. 1. 0. 0. 1. 0. 1. 0. 1. 0. 0. 0. 0. 1. 0. 1. 0. 0. 0. 0. 1. 0. 0. 1.\n",
      " 0. 0. 1. 0. 0. 1. 1. 0. 1. 1. 1. 1. 0. 1. 1. 0. 0. 1. 1. 0. 1. 0. 0. 1.\n",
      " 0. 0. 1. 0. 0. 0. 1. 1. 1. 1. 1. 0. 1. 0. 0. 1. 0. 0. 0. 1. 0. 0. 0. 1.\n",
      " 1. 0. 0. 0. 0. 1. 1. 1. 0. 1. 0. 0. 0. 0. 1. 1. 0. 0. 1. 0. 1. 0. 1. 1.\n",
      " 1. 0. 1. 1. 1. 1. 1. 1. 0. 1. 0. 1. 0. 0. 1. 0. 0. 0. 0. 0. 1. 0. 0. 1.\n",
      " 1. 1. 1. 1. 1. 0. 1. 1. 0. 1. 0. 1. 0. 0. 1. 0. 1. 1. 1. 0. 0. 0. 1. 1.\n",
      " 0. 1. 0. 0. 0. 0. 0. 1. 0. 1. 0. 1. 1. 1. 1. 0. 0. 1. 0. 1. 1. 0. 1. 0.\n",
      " 0. 1. 1. 1. 1. 0. 0. 0. 1. 1. 0. 0. 0. 0. 0. 1. 0. 0. 1. 0. 1. 1. 1. 0.\n",
      " 0. 0. 1. 0. 0. 0. 1. 1. 0. 1. 0. 1. 1. 1. 1. 1. 1. 1. 1. 0. 1. 1. 1. 0.\n",
      " 1. 1. 1. 0. 0. 0. 0. 1. 0. 0. 1. 0. 1. 0. 1. 1. 0. 0. 1. 0. 0. 1. 0. 1.\n",
      " 1. 1. 0. 1. 0. 1. 1. 1. 0. 0. 1. 1. 1. 1. 1. 1.]\n"
     ]
    }
   ],
   "source": [
    "print(y)"
   ]
  },
  {
   "cell_type": "code",
   "execution_count": 14,
   "metadata": {},
   "outputs": [],
   "source": [
    "%matplotlib inline \n",
    "import numpy as np \n",
    "import matplotlib.pyplot as plt \n",
    "from scipy import stats \n",
    "# use seaborn plotting defaults \n",
    "import seaborn as sns; sns.set() "
   ]
  },
  {
   "cell_type": "code",
   "execution_count": 67,
   "metadata": {},
   "outputs": [
    {
     "data": {
      "image/png": "[encoded data removed]",
      "text/plain": [
       "<Figure size 432x288 with 1 Axes>"
      ]
     },
     "metadata": {},
     "output_type": "display_data"
    }
   ],
   "source": [
    "from sklearn.datasets import make_blobs \n",
    "X, y = make_blobs(n_samples=[100, 500], centers=[[3,3], [1,1]], \n",
    "                 random_state=0, cluster_std=[0.80, 1.0]) \n",
    "plt.scatter(X[:, 0], X[:, 1], c=y, s=50, cmap='autumn'); \n"
   ]
  },
  {
   "cell_type": "code",
   "execution_count": 68,
   "metadata": {},
   "outputs": [
    {
     "name": "stdout",
     "output_type": "stream",
     "text": [
      "(600, 2)\n",
      "(600,)\n"
     ]
    }
   ],
   "source": [
    "print(X.shape)\n",
    "print(y.shape)"
   ]
  },
  {
   "cell_type": "code",
   "execution_count": 69,
   "metadata": {},
   "outputs": [
    {
     "data": {
      "text/plain": [
       "SVC(C=10000000000.0, kernel='linear')"
      ]
     },
     "execution_count": 69,
     "metadata": {},
     "output_type": "execute_result"
    }
   ],
   "source": [
    "from sklearn.svm import SVC # \"Support vector classifier\" \n",
    "model = SVC(kernel='linear', C=1E10) \n",
    "model.fit(X, y)"
   ]
  },
  {
   "cell_type": "code",
   "execution_count": 70,
   "metadata": {},
   "outputs": [
    {
     "data": {
      "text/plain": [
       "<bound method BaseSVC.decision_function of SVC(C=10000000000.0, kernel='linear')>"
      ]
     },
     "execution_count": 70,
     "metadata": {},
     "output_type": "execute_result"
    }
   ],
   "source": [
    "model.decision_function "
   ]
  },
  {
   "cell_type": "code",
   "execution_count": 71,
   "metadata": {},
   "outputs": [
    {
     "data": {
      "text/plain": [
       "array([[3.50018516, 1.71835388],\n",
       "       [1.70888172, 2.82980778],\n",
       "       [2.59135589, 2.05549425],\n",
       "       [2.2897714 , 1.41536283],\n",
       "       [1.96571447, 3.2136407 ],\n",
       "       [2.35727227, 2.44836018],\n",
       "       [3.25045416, 2.31672341],\n",
       "       [1.94727407, 2.63073232],\n",
       "       [2.44434571, 2.88029237],\n",
       "       [2.40419614, 2.33884917],\n",
       "       [2.19982772, 1.76418312],\n",
       "       [2.48510528, 1.22127748],\n",
       "       [2.71680487, 1.90003897],\n",
       "       [2.34948297, 1.61897392],\n",
       "       [1.60815643, 2.11496232],\n",
       "       [2.46657872, 1.85255194],\n",
       "       [2.95591231, 1.39009332],\n",
       "       [1.93674246, 2.41232771],\n",
       "       [2.51999486, 2.71958931],\n",
       "       [4.17097477, 1.18949964],\n",
       "       [2.73887268, 1.99439439],\n",
       "       [2.10028434, 2.29802197],\n",
       "       [1.48111513, 3.75935511],\n",
       "       [3.25930895, 0.95774285],\n",
       "       [1.89526027, 2.37496407],\n",
       "       [1.04513402, 3.33962481],\n",
       "       [2.41117206, 1.78580383],\n",
       "       [3.52636824, 2.76992139],\n",
       "       [2.0996596 , 1.65526373]])"
      ]
     },
     "execution_count": 71,
     "metadata": {},
     "output_type": "execute_result"
    }
   ],
   "source": [
    "model.support_vectors_"
   ]
  },
  {
   "cell_type": "code",
   "execution_count": 72,
   "metadata": {},
   "outputs": [
    {
     "data": {
      "text/plain": [
       "<bound method BaseSVC.decision_function of SVC(C=10000000000.0, kernel='linear')>"
      ]
     },
     "execution_count": 72,
     "metadata": {},
     "output_type": "execute_result"
    }
   ],
   "source": [
    "model.decision_function"
   ]
  },
  {
   "cell_type": "code",
   "execution_count": 73,
   "metadata": {},
   "outputs": [],
   "source": [
    "def plot_svc_decision_function(model, ax=None, plot_support=True): \n",
    "   \"\"\"Plot the decision function for a 2D SVC\"\"\" \n",
    "   if ax is None: \n",
    "       ax = plt.gca() # Get the current Axes instance on the current figure mat ching the given keyword args, or create one. \n",
    "   xlim = ax.get_xlim() \n",
    "   ylim = ax.get_ylim() \n",
    "    \n",
    "   # create grid to evaluate model \n",
    "   x = np.linspace(xlim[0], xlim[1], 30) \n",
    "   y = np.linspace(ylim[0], ylim[1], 30) \n",
    "   Y, X = np.meshgrid(y, x) # 30 x 30 each \n",
    "   xy = np.vstack([X.ravel(), Y.ravel()]).T # 900 x 2 \n",
    "   print(\"size of xy\", xy.shape) \n",
    "    \n",
    "   P = model.decision_function(xy).reshape(X.shape) #model.decision_function(xy) return 900 x 1 \n",
    "   # Returns the decision function of the sample for each class in the model \n",
    "   print(\"size of P\", P.shape) # 30 x 30 \n",
    "   # plot decision boundary and margins   #  draw contour lines \n",
    "   ax.contour(X, Y, P, colors='k', \n",
    "              levels=[-1, 0, 1], alpha=0.5, \n",
    "              linestyles=['--', '-', '--']) \n",
    "    \n",
    "   # plot support vectors \n",
    "   if plot_support: \n",
    "       ax.scatter(model.support_vectors_[:, 0], \n",
    "                  model.support_vectors_[:, 1], \n",
    "                  s=50, linewidth=1, facecolors='Blue'); \n",
    "   ax.set_xlim(xlim) \n",
    "   ax.set_ylim(ylim) "
   ]
  },
  {
   "cell_type": "code",
   "execution_count": 74,
   "metadata": {},
   "outputs": [
    {
     "name": "stdout",
     "output_type": "stream",
     "text": [
      "size of xy (900, 2)\n",
      "size of P (30, 30)\n"
     ]
    },
    {
     "data": {
      "image/png": "[encoded data removed]",
      "text/plain": [
       "<Figure size 432x288 with 1 Axes>"
      ]
     },
     "metadata": {},
     "output_type": "display_data"
    }
   ],
   "source": [
    "plt.scatter(X[:, 0], X[:, 1], c=y, s=50, cmap='autumn') \n",
    "plot_svc_decision_function(model);"
   ]
  },
  {
   "cell_type": "code",
   "execution_count": null,
   "metadata": {},
   "outputs": [],
   "source": []
  },
  {
   "cell_type": "code",
   "execution_count": null,
   "metadata": {},
   "outputs": [],
   "source": []
  },
  {
   "cell_type": "code",
   "execution_count": 75,
   "metadata": {},
   "outputs": [],
   "source": [
    "from isotree import IsolationForest\n",
    "from sklearn.base import TransformerMixin, BaseEstimator\n",
    "\n",
    "\n",
    "class IsoDistKernel(TransformerMixin, BaseEstimator):\n",
    "    def __init__(self, isotree_params: dict = {}):\n",
    "        self.isotree_params = isotree_params\n",
    "\n",
    "    def fit(self, X, y=None, sample_weights=None):\n",
    "        self.iso_ = IsolationForest(**self.isotree_params)\n",
    "        self.iso_.fit(X).set_reference_points(X, with_distances=True)\n",
    "        return self\n",
    "\n",
    "    def transform(self, X):\n",
    "        D = self.iso_.predict_distance(X, use_reference_points=True)\n",
    "        return 1 - D\n"
   ]
  },
  {
   "attachments": {},
   "cell_type": "markdown",
   "metadata": {},
   "source": [
    "# Evaluating results with this kernel\n",
    "\n",
    "Note that while typically most SVM libraries manually calculate a set of predefined kernels, software such as LibSVM (and by extension scikit-learn which uses it behind the hood) or ThunderSVM allow passing a precomputed kernel as data instead of the original points, which is a square matrix with dimension equal to the number of observations.\n",
    "\n",
    "The results here are evaluated by a randomized and stratified 5-fold cross-validation.\n"
   ]
  },
  {
   "cell_type": "code",
   "execution_count": 76,
   "metadata": {},
   "outputs": [
    {
     "name": "stdout",
     "output_type": "stream",
     "text": [
      "Cross-validation results (distance isolation kernel):\n",
      "{'fit_time': array([0.10379696, 0.08725548, 0.08275962, 0.07018161, 0.07418704]),\n",
      " 'score_time': array([0.02309585, 0.01905489, 0.02479601, 0.01502895, 0.02256966]),\n",
      " 'test_score': array([0.999, 0.985, 0.99 , 0.998, 0.989])}\n",
      "----\n",
      "Mean CV AUROC: 0.9922\n"
     ]
    }
   ],
   "source": [
    "from sklearn.svm import SVC\n",
    "from sklearn.pipeline import make_pipeline\n",
    "from sklearn.model_selection import StratifiedKFold\n",
    "from sklearn.model_selection import cross_validate\n",
    "from pprint import pprint\n",
    "\n",
    "model = make_pipeline(\n",
    "    IsoDistKernel(\n",
    "        {\"ndim\": 1, \"sample_size\": 256, \"ntrees\": 250, \"missing_action\": \"fail\"}\n",
    "    ),\n",
    "    SVC(kernel=\"precomputed\"),\n",
    ")\n",
    "cv_res_iso = cross_validate(\n",
    "    estimator=model,\n",
    "    X=X,\n",
    "    y=y,\n",
    "    scoring=\"roc_auc\",\n",
    "    n_jobs=1,\n",
    "    cv=StratifiedKFold(n_splits=5, shuffle=True, random_state=1),\n",
    ")\n",
    "print(\"Cross-validation results (distance isolation kernel):\")\n",
    "pprint(cv_res_iso)\n",
    "print(\"----\")\n",
    "print(\"Mean CV AUROC: %.4f\" % cv_res_iso[\"test_score\"].mean())\n"
   ]
  },
  {
   "attachments": {},
   "cell_type": "markdown",
   "metadata": {},
   "source": [
    "A natural question is how good was the addition of this kernel compared to something simpler. As will be seen, results are better with the isolation kernel than with the default Gaussian RBF kernel used by this library:\n"
   ]
  },
  {
   "cell_type": "code",
   "execution_count": 77,
   "metadata": {},
   "outputs": [
    {
     "name": "stdout",
     "output_type": "stream",
     "text": [
      "Cross-validation results (default RBF kernel):\n",
      "{'fit_time': array([0.00400615, 0.0035789 , 0.0056107 , 0.0050838 , 0.0060823 ]),\n",
      " 'score_time': array([0.00383687, 0.00324726, 0.00299883, 0.00350738, 0.0035181 ]),\n",
      " 'test_score': array([1.    , 0.981 , 0.976 , 0.9865, 0.987 ])}\n",
      "----\n",
      "Mean CV AUROC: 0.9861\n"
     ]
    }
   ],
   "source": [
    "### Compare against a simpler kernel\n",
    "cv_res_plain_kernel = cross_validate(\n",
    "    estimator=SVC(),\n",
    "    X=X,\n",
    "    y=y,\n",
    "    scoring=\"roc_auc\",\n",
    "    n_jobs=-1,\n",
    "    cv=StratifiedKFold(n_splits=5, shuffle=True, random_state=1),\n",
    ")\n",
    "print(\"Cross-validation results (default RBF kernel):\")\n",
    "pprint(cv_res_plain_kernel)\n",
    "print(\"----\")\n",
    "print(\"Mean CV AUROC: %.4f\" % cv_res_plain_kernel[\"test_score\"].mean())\n"
   ]
  },
  {
   "attachments": {},
   "cell_type": "markdown",
   "metadata": {},
   "source": [
    "## More efficient calculation for fitted model\n",
    "\n",
    "While the input to the model is a kernel matrix with number of columns corresponding to the number of observations to which it was fitted, in practice SVM models only end up using a fraction of the total observations in their prediction formula (these are the so-called \"support vectors\").\n",
    "\n",
    "As such, once one has a fitted model and wants to make predictions on new data, it is not necessary (nor beneficial) to calculate distances from the new observations to every single point that was in the training data - only distances with respect to support vectors are needed.\n",
    "\n",
    "The software used here (scikit-learn) unfortunately does not have any option for automatically telling the model methods to \"shrink\" their input requirements, but it is nevertheless easy to re-create the formula manually:\n"
   ]
  },
  {
   "cell_type": "code",
   "execution_count": 78,
   "metadata": {},
   "outputs": [
    {
     "name": "stderr",
     "output_type": "stream",
     "text": [
      "d:\\anaconda3\\lib\\site-packages\\isotree\\__init__.py:1910: UserWarning: Model was meant to take 3 variables for each split, but data has 2 columns. Will decrease number of splitting variables to match number of columns.\n",
      "  warnings.warn(msg)\n"
     ]
    },
    {
     "name": "stdout",
     "output_type": "stream",
     "text": [
      "Prediction from automated call to 'decision_function':\n",
      "[ 1.3367281  -1.12034055  1.38879494  0.78207626  1.41884562 -1.00038669\n",
      "  1.37739556 -1.15386039  1.60483199  1.44989069]\n"
     ]
    }
   ],
   "source": [
    "iso = IsolationForest().fit(X).set_reference_points(X, with_distances=True)\n",
    "K = 1 - iso.predict_distance(X, use_reference_points=True)\n",
    "svm = SVC(kernel=\"precomputed\").fit(K, y)\n",
    "p_auto = svm.decision_function(K[:10]).reshape(-1)\n",
    "print(\"Prediction from automated call to 'decision_function':\")\n",
    "print(p_auto)"
   ]
  },
  {
   "cell_type": "code",
   "execution_count": 79,
   "metadata": {},
   "outputs": [
    {
     "name": "stdout",
     "output_type": "stream",
     "text": [
      "[[0.98314874 0.4103217  0.7887534  ... 0.64051587 0.80028702 0.372364  ]\n",
      " [0.4103217  0.96669229 0.50585717 ... 0.37885586 0.46965613 0.61975531]\n",
      " [0.7887534  0.50585717 0.98127642 ... 0.58476499 0.78251316 0.43080299]\n",
      " ...\n",
      " [0.64051587 0.37885586 0.58476499 ... 0.98363225 0.76101367 0.44483058]\n",
      " [0.80028702 0.46965613 0.78251316 ... 0.76101367 0.98401348 0.47912829]\n",
      " [0.372364   0.61975531 0.43080299 ... 0.44483058 0.47912829 0.97862601]]\n"
     ]
    }
   ],
   "source": [
    "print(K)\n",
    "# plt.scatter(K[:, 0], K[:, 1], c=y, s=50, cmap='autumn');"
   ]
  },
  {
   "cell_type": "code",
   "execution_count": 80,
   "metadata": {},
   "outputs": [
    {
     "name": "stdout",
     "output_type": "stream",
     "text": [
      "[[ 4.50652056  1.92179275]\n",
      " [ 2.96857375  2.0655252 ]\n",
      " [ 2.46203164  2.71235747]\n",
      " [ 3.30114042  2.12047937]\n",
      " [ 3.91152055  2.01213934]\n",
      " [ 3.50018516  1.71835388]\n",
      " [ 1.70888172  2.82980778]\n",
      " [ 2.16115763  1.86398565]\n",
      " [ 2.59135589  2.05549425]\n",
      " [ 2.66910482  2.40203615]\n",
      " [ 1.99776371  3.62199228]\n",
      " [ 2.49254233  2.70980707]\n",
      " [ 1.63498385  4.56062032]\n",
      " [ 1.69584132  3.3702258 ]\n",
      " [ 2.2897714   1.41536283]\n",
      " [ 2.11649333  3.04173206]\n",
      " [ 2.30336228  2.53692027]\n",
      " [ 1.96571447  3.2136407 ]\n",
      " [ 2.35727227  2.44836018]\n",
      " [ 0.95760815  3.52289488]\n",
      " [ 1.80699393  3.35151336]\n",
      " [ 2.08202508  2.64974396]\n",
      " [ 1.94727407  2.63073232]\n",
      " [ 2.92123798  2.46921737]\n",
      " [ 4.8158037   1.83650746]\n",
      " [ 2.59227825  2.64954056]\n",
      " [ 2.06150128  4.55489695]\n",
      " [ 2.40419614  2.33884917]\n",
      " [ 2.19982772  1.76418312]\n",
      " [ 3.31680537  2.12555079]\n",
      " [ 1.983612    3.77551737]\n",
      " [ 3.37252995  1.77100505]\n",
      " [ 2.27416131  3.04155632]\n",
      " [ 2.48510528  1.22127748]\n",
      " [ 2.01965158  3.67549038]\n",
      " [ 2.71680487  1.90003897]\n",
      " [ 2.34948297  1.61897392]\n",
      " [ 1.23482153  3.13215341]\n",
      " [ 1.85792392  2.14110187]\n",
      " [ 2.4229835   1.39608658]\n",
      " [ 1.33890413  3.02104356]\n",
      " [ 2.46657872  1.85255194]\n",
      " [ 1.44819528  2.69618157]\n",
      " [ 2.95591231  1.39009332]\n",
      " [ 1.93674246  2.41232771]\n",
      " [ 2.51999486  2.71958931]\n",
      " [ 2.39251845  2.03758567]\n",
      " [ 2.26741165  1.49949823]\n",
      " [ 3.69622405  0.92607533]\n",
      " [ 4.17097477  1.18949964]\n",
      " [ 2.51332808  1.55313206]\n",
      " [ 2.73887268  1.99439439]\n",
      " [ 2.10028434  2.29802197]\n",
      " [ 1.48111513  3.75935511]\n",
      " [ 3.25930895  0.95774285]\n",
      " [ 1.8203218   2.35994854]\n",
      " [ 2.63159743  1.37775917]\n",
      " [ 1.33003511  3.22594433]\n",
      " [ 1.89526027  2.37496407]\n",
      " [ 1.9606934   2.32906285]\n",
      " [ 3.59442459  0.59596771]\n",
      " [ 3.49720039 -1.24532165]\n",
      " [ 1.04513402  3.33962481]\n",
      " [ 2.41117206  1.78580383]\n",
      " [ 2.66925081  1.30198921]\n",
      " [ 1.46838523  2.735879  ]\n",
      " [ 1.97253579  3.13386825]\n",
      " [ 1.68981816  2.30184623]\n",
      " [ 0.96423193  3.38074535]\n",
      " [ 2.48935596  1.52130375]\n",
      " [ 0.4971833   3.41245368]\n",
      " [ 3.52636824  2.76992139]\n",
      " [ 2.4333525   1.41839801]\n",
      " [ 2.0996596   1.65526373]\n",
      " [ 2.15233156  2.07961859]\n",
      " [ 0.84233298  3.2567235 ]\n",
      " [ 2.73272119  1.68450111]]\n"
     ]
    }
   ],
   "source": [
    "sv = [X[t] for t in svm.support_]\n",
    "sv = np.array(sv)\n",
    "print(sv)"
   ]
  },
  {
   "cell_type": "code",
   "execution_count": 81,
   "metadata": {},
   "outputs": [
    {
     "data": {
      "text/plain": [
       "<bound method BaseSVC.decision_function of SVC(kernel='precomputed')>"
      ]
     },
     "execution_count": 81,
     "metadata": {},
     "output_type": "execute_result"
    }
   ],
   "source": [
    "svm.decision_function"
   ]
  },
  {
   "cell_type": "code",
   "execution_count": 82,
   "metadata": {},
   "outputs": [
    {
     "name": "stdout",
     "output_type": "stream",
     "text": [
      "Number of reference points picked: 77\n",
      "Prediction from manual formula using only selected reference points:\n",
      "[ 1.3367281  -1.12034055  1.38879494  0.78207626  1.41884562 -1.00038669\n",
      "  1.37739556 -1.15386039  1.60483199  1.44989069]\n"
     ]
    }
   ],
   "source": [
    "idx_used = svm.support_\n",
    "print(\"Number of reference points picked: %d\" % idx_used.shape[0])\n",
    "iso.set_reference_points(X[idx_used], with_distances=True)\n",
    "K_used = 1.0 - iso.predict_distance(X[:10], use_reference_points=True)\n",
    "p_manual = K_used.dot(svm.dual_coef_.reshape(-1)) + svm.intercept_[0]\n",
    "print(\"Prediction from manual formula using only selected reference points:\")\n",
    "print(p_manual)\n"
   ]
  },
  {
   "cell_type": "code",
   "execution_count": 83,
   "metadata": {},
   "outputs": [
    {
     "name": "stdout",
     "output_type": "stream",
     "text": [
      "[[ 1.30833125 -0.37808347]\n",
      " [ 4.49404639  2.2181777 ]\n",
      " [ 2.32646164  0.03539358]\n",
      " [ 1.23482153  3.13215341]\n",
      " [-0.0326431   0.56325166]\n",
      " [ 4.50652056  1.92179275]\n",
      " [ 0.73226646 -0.12801133]\n",
      " [ 2.31101945  4.52805196]\n",
      " [ 0.86809136  1.40476181]\n",
      " [ 1.32486962  1.99711798]]\n",
      "[[0.41520617 0.56048022 0.52202734 0.52762648 0.47514166 0.53380676\n",
      "  0.52136427 0.6215958  0.57896852 0.5334835  0.44367494 0.52565784\n",
      "  0.33749649 0.46299776 0.66037843 0.48949394 0.53574157 0.47984987\n",
      "  0.54561094 0.42922265 0.46522646 0.52958695 0.53766836 0.52302022\n",
      "  0.38229068 0.523681   0.3448033  0.56321355 0.63245317 0.52434086\n",
      "  0.42365683 0.54874964 0.48522996 0.66061376 0.43786054 0.58934465\n",
      "  0.64126262 0.47876712 0.60388259 0.65179713 0.49826413 0.60552658\n",
      "  0.53638473 0.60960675 0.56321355 0.51970257 0.5935922  0.65515977\n",
      "  0.52828087 0.47514166 0.62758063 0.57955179 0.57721386 0.41520617\n",
      "  0.58591467 0.57604002 0.63726195 0.4692884  0.57545188 0.57309114\n",
      "  0.54906231 0.54561094 0.45323227 0.62264351 0.64200781 0.53316003\n",
      "  0.48843127 0.58505271 0.45095359 0.63245317 0.42125489 0.44751776\n",
      "  0.64571065 0.64937519 0.60001994 0.45209412 0.60360793]\n",
      " [0.9131903  0.70104505 0.60415707 0.75275727 0.85868368 0.77390516\n",
      "  0.49756809 0.57955179 0.64398745 0.65034598 0.48451584 0.60770795\n",
      "  0.36799845 0.47185719 0.598353   0.52893436 0.58820449 0.5096105\n",
      "  0.59667912 0.38613216 0.48736638 0.54906231 0.53121445 0.68574666\n",
      "  0.85329398 0.61922782 0.40827449 0.61122698 0.58591467 0.75801324\n",
      "  0.47258884 0.75548413 0.54686903 0.60689135 0.47912829 0.6636582\n",
      "  0.61095741 0.44058145 0.53121445 0.61095741 0.45738531 0.62706399\n",
      "  0.47258884 0.67847563 0.54181568 0.60797977 0.61790587 0.59918734\n",
      "  0.7055693  0.77170044 0.62783869 0.66736774 0.56230434 0.42922265\n",
      "  0.67646359 0.52697118 0.63194328 0.44328919 0.5334835  0.54086192\n",
      "  0.6624905  0.41561138 0.41803673 0.62133342 0.63168808 0.47550534\n",
      "  0.51569091 0.50138437 0.40291841 0.62550977 0.34707011 0.75951814\n",
      "  0.61310875 0.57220249 0.57574605 0.39876538 0.66131876]\n",
      " [0.51970257 0.65635283 0.57984312 0.63296234 0.57662734 0.65515977\n",
      "  0.53926791 0.68268228 0.66014294 0.61337683 0.46670711 0.58216652\n",
      "  0.34343944 0.48164945 0.7618405  0.52302022 0.59246383 0.50619957\n",
      "  0.60933606 0.43237895 0.48913996 0.56862933 0.56743165 0.60001994\n",
      "  0.48129003 0.58216652 0.36316126 0.62912627 0.70454711 0.62964005\n",
      "  0.44904744 0.66644421 0.52860773 0.79509885 0.46150681 0.68158063\n",
      "  0.73427608 0.48308463 0.63575022 0.76364947 0.50069267 0.69433993\n",
      "  0.54529587 0.74064502 0.60250737 0.5751575  0.66759822 0.75121007\n",
      "  0.68135984 0.60029708 0.73353832 0.67080827 0.62394906 0.43237895\n",
      "  0.75275727 0.60001994 0.7618405  0.47768212 0.60497934 0.6123034\n",
      "  0.7177589  0.63117714 0.46336986 0.7033158  0.77639877 0.54403342\n",
      "  0.51164574 0.59779581 0.4562558  0.73992493 0.41113861 0.53412979\n",
      "  0.75851592 0.71381896 0.65848994 0.45323227 0.71142865]\n",
      " [0.42724105 0.64324637 0.76706489 0.60057404 0.51028985 0.54843674\n",
      "  0.89459611 0.72490535 0.69178692 0.70841266 0.8384559  0.7618405\n",
      "  0.70475183 0.90747417 0.65754176 0.8429822  0.78461346 0.86878541\n",
      "  0.76947422 0.89125658 0.89178293 0.82686132 0.84482156 0.68091781\n",
      "  0.38994974 0.74046518 0.69093118 0.74826111 0.71102832 0.59779581\n",
      "  0.82829547 0.57427315 0.81635392 0.61068765 0.83112824 0.66319161\n",
      "  0.67398732 0.9807767  0.79552449 0.63751329 0.95955795 0.6859644\n",
      "  0.90893756 0.5938738  0.8218703  0.7544651  0.71951413 0.66782855\n",
      "  0.46075978 0.42125489 0.64275147 0.66482185 0.78520981 0.86713804\n",
      "  0.50414163 0.82936329 0.61817063 0.96382843 0.82248658 0.81145249\n",
      "  0.44367494 0.2914213  0.93605391 0.68726773 0.59751693 0.91402864\n",
      "  0.86565635 0.83890317 0.91666883 0.6390177  0.83333767 0.59499826\n",
      "  0.64001717 0.70679126 0.75121007 0.91161165 0.63926783]\n",
      " [0.33427419 0.49930637 0.50688365 0.4622528  0.39959829 0.45171421\n",
      "  0.55557866 0.58905991 0.53606326 0.51028985 0.4659673  0.50688365\n",
      "  0.39206036 0.49965331 0.58418895 0.50310945 0.52598652 0.50172987\n",
      "  0.52729894 0.52631496 0.49791623 0.53477517 0.54843674 0.48665523\n",
      "  0.31079742 0.50242014 0.38186237 0.54276746 0.59104897 0.45888768\n",
      "  0.45285315 0.4674459  0.49756809 0.57071728 0.45813702 0.53153928\n",
      "  0.57604002 0.55803623 0.60852285 0.56833022 0.56592989 0.54812364\n",
      "  0.58820449 0.51602649 0.56803091 0.50242014 0.55711624 0.58447707\n",
      "  0.42045202 0.37453546 0.54874964 0.52070028 0.5644229  0.4794892\n",
      "  0.46670711 0.58129676 0.54999904 0.54213316 0.57779956 0.57574605\n",
      "  0.42285729 0.3697483  0.54749677 0.5635162  0.55217716 0.58274536\n",
      "  0.50722533 0.60223176 0.54529587 0.55434475 0.54655484 0.41276901\n",
      "  0.5644229  0.60634601 0.57779956 0.56017546 0.5299129 ]\n",
      " [0.96476874 0.69708183 0.59218125 0.73920285 0.85511301 0.77732677\n",
      "  0.49020116 0.57984312 0.6402666  0.64225587 0.4659673  0.59555933\n",
      "  0.35202952 0.45700907 0.59499826 0.51569091 0.58303448 0.49442396\n",
      "  0.59189848 0.37496885 0.47368442 0.54340087 0.52631496 0.67466454\n",
      "  0.88943245 0.60987726 0.38952674 0.60525306 0.58505271 0.74386079\n",
      "  0.4498107  0.75344182 0.5334835  0.60607306 0.45851248 0.66342498\n",
      "  0.60689135 0.42724105 0.53023863 0.60987726 0.44713467 0.62499025\n",
      "  0.46781491 0.68069656 0.53798871 0.59583957 0.61364473 0.59667912\n",
      "  0.73902202 0.81787511 0.62420963 0.6650541  0.55925992 0.41195437\n",
      "  0.69708183 0.52169592 0.63015312 0.43159151 0.52958695 0.53798871\n",
      "  0.69455172 0.44213034 0.40622017 0.61949165 0.63321666 0.47002361\n",
      "  0.50172987 0.4989592  0.39037245 0.62238185 0.3388727  0.72981865\n",
      "  0.61149637 0.57101473 0.56982368 0.38613216 0.65896304]\n",
      " [0.37410177 0.53218825 0.51266018 0.49721971 0.43708071 0.4909074\n",
      "  0.53056413 0.61149637 0.55372651 0.51535509 0.44559968 0.51232227\n",
      "  0.35382358 0.47331948 0.62912627 0.49512435 0.53218825 0.48487302\n",
      "  0.53574157 0.45550149 0.47441355 0.53574157 0.54308427 0.49930637\n",
      "  0.35113062 0.5089302  0.35382358 0.55248746 0.61764093 0.49442396\n",
      "  0.42684391 0.50619957 0.48984767 0.6215958  0.43825005 0.56048022\n",
      "  0.61068765 0.4989592  0.60933606 0.61524819 0.51970257 0.5780921\n",
      "  0.55341707 0.5635162  0.56743165 0.50756678 0.57779956 0.6252501\n",
      "  0.47731995 0.42922265 0.59246383 0.55062244 0.5751575  0.43316529\n",
      "  0.53023863 0.58216652 0.59723785 0.48736638 0.57838444 0.5780921\n",
      "  0.48843127 0.47112452 0.47695753 0.59583957 0.60167995 0.54812364\n",
      "  0.49547418 0.59639946 0.47912829 0.59779581 0.45700907 0.42485405\n",
      "  0.60987726 0.63826628 0.59302841 0.48380073 0.57220249]\n",
      " [0.40291841 0.55680915 0.66131876 0.54181568 0.47112452 0.47876712\n",
      "  0.66389125 0.56048022 0.57071728 0.61337683 0.79267011 0.65990729\n",
      "  0.8004254  0.73574549 0.51198412 0.71381896 0.64595614 0.7311264\n",
      "  0.63726195 0.67012302 0.74279332 0.6573043  0.65444195 0.60525306\n",
      "  0.3766994  0.6484017  0.91396902 0.61869959 0.54812364 0.54086192\n",
      "  0.81040406 0.50242014 0.71717138 0.49126015 0.80180397 0.55031084\n",
      "  0.53153928 0.66989429 0.59611961 0.5096105  0.66598148 0.55093381\n",
      "  0.63926783 0.48736638 0.62212002 0.65754176 0.57721386 0.51936954\n",
      "  0.38825598 0.38229068 0.52070028 0.5586485  0.61041771 0.75582287\n",
      "  0.41803673 0.61869959 0.50138437 0.68552876 0.61896379 0.61391243\n",
      "  0.3658043  0.21921351 0.66690629 0.54843674 0.48236754 0.64961814\n",
      "  0.72395029 0.61203457 0.6624905  0.51602649 0.60661878 0.59189848\n",
      "  0.51266018 0.54086192 0.58447707 0.63826628 0.52565784]\n",
      " [0.42961814 0.6390177  0.67735938 0.58677484 0.50414163 0.56230434\n",
      "  0.74225792 0.76995309 0.69854804 0.66805871 0.61149637 0.67376126\n",
      "  0.49721971 0.66342498 0.74773709 0.67353505 0.70618092 0.67421321\n",
      "  0.70042274 0.65563749 0.6624905  0.72337566 0.73884106 0.62989668\n",
      "  0.40043004 0.66482185 0.49337155 0.71618947 0.76674175 0.58418895\n",
      "  0.59104897 0.58706117 0.66435687 0.70719745 0.60333308 0.67981003\n",
      "  0.73938356 0.71579576 0.80180397 0.7247146  0.73592859 0.71342195\n",
      "  0.77871156 0.64076496 0.76266447 0.66828871 0.73000586 0.75069219\n",
      "  0.50995029 0.45851248 0.70719745 0.67058001 0.75155473 0.61444729\n",
      "  0.57131198 0.77962996 0.69603018 0.70042274 0.77280547 0.76915442\n",
      "  0.51535509 0.40333213 0.68921258 0.72925624 0.68135984 0.77280547\n",
      "  0.67981003 0.80547871 0.686182   0.71142865 0.65635283 0.54276746\n",
      "  0.72260763 0.78341579 0.76151011 0.69959099 0.67668777]\n",
      " [0.47039083 0.70800815 0.78787302 0.65372263 0.54968701 0.61631348\n",
      "  0.86481565 0.84706399 0.77546691 0.76117927 0.72318385 0.78520981\n",
      "  0.57368255 0.77421837 0.7969369  0.79973253 0.82162319 0.79367365\n",
      "  0.81698929 0.7346442  0.77374838 0.84439072 0.86396969 0.71717138\n",
      "  0.43237895 0.77374838 0.57101473 0.81223501 0.83299074 0.65083037\n",
      "  0.69497487 0.63726195 0.78846035 0.74913206 0.71142865 0.74598246\n",
      "  0.80056369 0.81584404 0.91068787 0.77249029 0.84341695 0.78311533\n",
      "  0.89626318 0.68899709 0.88231519 0.77932425 0.8136612  0.80682236\n",
      "  0.54561094 0.48984767 0.76332159 0.74225792 0.86905798 0.7130244\n",
      "  0.61203457 0.90447647 0.74421563 0.80152902 0.89371573 0.88973858\n",
      "  0.53798871 0.37885586 0.78236236 0.79353058 0.72452372 0.88858619\n",
      "  0.80248967 0.92775708 0.76963395 0.76835298 0.71795447 0.61498141\n",
      "  0.77484351 0.84706399 0.85410524 0.77484351 0.73684221]]\n"
     ]
    }
   ],
   "source": [
    "x1 = np.array(X[0:10])\n",
    "print(x1)\n",
    "K_used1 = 1.0 - iso.predict_distance(x1, use_reference_points=True)\n",
    "print(K_used1)"
   ]
  },
  {
   "cell_type": "code",
   "execution_count": 84,
   "metadata": {},
   "outputs": [
    {
     "name": "stdout",
     "output_type": "stream",
     "text": [
      "Prediction from manual formula using only selected reference points:\n",
      "[ 1.3367281  -1.12034055  1.38879494  0.78207626  1.41884562 -1.00038669\n",
      "  1.37739556 -1.15386039  1.60483199  1.44989069]\n"
     ]
    }
   ],
   "source": [
    "p_manual1 = K_used1.dot(svm.dual_coef_.reshape(-1)) + svm.intercept_[0]\n",
    "print(\"Prediction from manual formula using only selected reference points:\")\n",
    "print(p_manual1)"
   ]
  },
  {
   "cell_type": "code",
   "execution_count": 85,
   "metadata": {},
   "outputs": [
    {
     "name": "stdout",
     "output_type": "stream",
     "text": [
      "[1 0 1 1 1 0 1 0 1 1]\n"
     ]
    }
   ],
   "source": [
    "print(y[0:10])"
   ]
  },
  {
   "cell_type": "code",
   "execution_count": null,
   "metadata": {},
   "outputs": [],
   "source": []
  },
  {
   "cell_type": "code",
   "execution_count": null,
   "metadata": {},
   "outputs": [],
   "source": []
  },
  {
   "cell_type": "code",
   "execution_count": 86,
   "metadata": {},
   "outputs": [],
   "source": [
    "def plot_svc_decision_function_2(model, sv, ax=None, plot_support=True): \n",
    "   \"\"\"Plot the decision function for a 2D SVC\"\"\" \n",
    "   if ax is None: \n",
    "       ax = plt.gca() # Get the current Axes instance on the current figure mat ching the given keyword args, or create one. \n",
    "   xlim = ax.get_xlim() \n",
    "   ylim = ax.get_ylim() \n",
    "    \n",
    "#    # create grid to evaluate model \n",
    "#    x = np.linspace(xlim[0], xlim[1], 20) \n",
    "#    y = np.linspace(ylim[0], ylim[1], 20) \n",
    "#    Y, X = np.meshgrid(y, x) # 30 x 30 each \n",
    "#    xy = np.vstack([X.ravel(), Y.ravel()]).T # 900 x 2 \n",
    "#    print(\"size of xy\", xy.shape) \n",
    "    \n",
    "#    P = model.decision_function(xy).reshape(X.shape) #model.decision_function(xy) return 900 x 1 \n",
    "#    # Returns the decision function of the sample for each class in the model \n",
    "#    print(\"size of P\", P.shape) # 30 x 30 \n",
    "#    # plot decision boundary and margins   #  draw contour lines \n",
    "#    ax.contour(X, Y, P, colors='k', \n",
    "#               levels=[-1, 0, 1], alpha=0.5, \n",
    "#               linestyles=['--', '-', '--']) \n",
    "    \n",
    "   # plot support vectors \n",
    "   if plot_support: \n",
    "       ax.scatter(sv[:, 0], \n",
    "                  sv[:, 1], \n",
    "                  s=50, linewidth=1, facecolors='Blue'); \n",
    "   ax.set_xlim(xlim) \n",
    "   ax.set_ylim(ylim) "
   ]
  },
  {
   "cell_type": "code",
   "execution_count": 87,
   "metadata": {},
   "outputs": [
    {
     "name": "stdout",
     "output_type": "stream",
     "text": [
      "(600, 2)\n"
     ]
    }
   ],
   "source": [
    "print(X.shape)"
   ]
  },
  {
   "cell_type": "code",
   "execution_count": 88,
   "metadata": {},
   "outputs": [
    {
     "data": {
      "image/png": "[encoded data removed]",
      "text/plain": [
       "<Figure size 432x288 with 1 Axes>"
      ]
     },
     "metadata": {},
     "output_type": "display_data"
    }
   ],
   "source": [
    "plt.scatter(X[:, 0], X[:, 1], c=y, s=50, cmap='autumn') \n",
    "plot_svc_decision_function_2(svm, sv)"
   ]
  },
  {
   "attachments": {},
   "cell_type": "markdown",
   "metadata": {},
   "source": [
    "## Sub-sampled kernel\n",
    "\n",
    "While SVM models typically involve efficient optimization routines for square kernel matrices which end up identifying the best reference points (support vectors) to use in the final prediction formula, it is also possible to use the trick with a plain generalized linear model such as logistic regression by instead supplying features that are the kernels with respect to randomly-sampled points within the data.\n",
    "\n",
    "This is faster to calculate as a kernel, but typically the results are not as good quality as when using a full square matrix, since the support vectors are randomly-chosen.\n"
   ]
  },
  {
   "cell_type": "code",
   "execution_count": null,
   "metadata": {},
   "outputs": [
    {
     "name": "stdout",
     "output_type": "stream",
     "text": [
      "Cross-validation results (randomly sub-sampled distance isolation kernel):\n",
      "{'fit_time': array([0.09652162, 0.07552147, 0.07251787, 0.06551313, 0.07151604]),\n",
      " 'score_time': array([0.01500034, 0.01600146, 0.01400042, 0.01299882, 0.0129981 ]),\n",
      " 'test_score': array([1., 1., 1., 1., 1.])}\n",
      "----\n",
      "Mean CV AUROC: 1.0000\n"
     ]
    }
   ],
   "source": [
    "from sklearn.linear_model import LogisticRegression\n",
    "import numpy as np\n",
    "\n",
    "\n",
    "class IsoSubSampledDistKernel(TransformerMixin, BaseEstimator):\n",
    "    def __init__(self, isotree_params: dict = {}, n_samples=250, random_state=None):\n",
    "        self.isotree_params = isotree_params\n",
    "        self.n_samples = n_samples\n",
    "        self.random_state = random_state\n",
    "\n",
    "    def fit(self, X, y=None, sample_weights=None):\n",
    "        self.iso_ = IsolationForest(**self.isotree_params)\n",
    "        self.iso_.fit(X)\n",
    "        rng = np.random.default_rng(seed=self.random_state)\n",
    "        idx_random = rng.choice(X.shape[0], size=self.n_samples)\n",
    "        self.iso_.set_reference_points(X[idx_random], with_distances=True)\n",
    "        return self\n",
    "\n",
    "    def transform(self, X):\n",
    "        D = self.iso_.predict_distance(X, use_reference_points=True)\n",
    "        return 1 - D\n",
    "\n",
    "\n",
    "model_subsampled = make_pipeline(\n",
    "    IsoSubSampledDistKernel(\n",
    "        {\"ndim\": 1, \"sample_size\": 256, \"ntrees\": 250, \"missing_action\": \"fail\"},\n",
    "        n_samples=250,\n",
    "        random_state=456,\n",
    "    ),\n",
    "    LogisticRegression(solver=\"lbfgs\", max_iter=10000),\n",
    ")\n",
    "cv_res_iso_subsampled = cross_validate(\n",
    "    estimator=model_subsampled,\n",
    "    X=X,\n",
    "    y=y,\n",
    "    scoring=\"roc_auc\",\n",
    "    n_jobs=1,\n",
    "    cv=StratifiedKFold(n_splits=5, shuffle=True, random_state=1),\n",
    ")\n",
    "print(\"Cross-validation results (randomly sub-sampled distance isolation kernel):\")\n",
    "pprint(cv_res_iso_subsampled)\n",
    "print(\"----\")\n",
    "print(\"Mean CV AUROC: %.4f\" % cv_res_iso_subsampled[\"test_score\"].mean())\n"
   ]
  },
  {
   "cell_type": "code",
   "execution_count": null,
   "metadata": {},
   "outputs": [],
   "source": []
  }
 ],
 "metadata": {
  "kernelspec": {
   "display_name": "tf-keras-gpu-test",
   "language": "python",
   "name": "python3"
  },
  "language_info": {
   "codemirror_mode": {
    "name": "ipython",
    "version": 3
   },
   "file_extension": ".py",
   "mimetype": "text/x-python",
   "name": "python",
   "nbconvert_exporter": "python",
   "pygments_lexer": "ipython3",
   "version": "3.9.7"
  },
  "toc": {
   "base_numbering": 1,
   "nav_menu": {},
   "number_sections": true,
   "sideBar": true,
   "skip_h1_title": false,
   "title_cell": "Table of Contents",
   "title_sidebar": "Contents",
   "toc_cell": false,
   "toc_position": {},
   "toc_section_display": true,
   "toc_window_display": false
  }
 },
 "nbformat": 4,
 "nbformat_minor": 4
}
