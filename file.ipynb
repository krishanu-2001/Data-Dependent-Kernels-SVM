{
 "cells": [
  {
   "attachments": {},
   "cell_type": "markdown",
   "metadata": {},
   "source": [
    "# Using Isolation Forests as kernels for SVM\n",
    "\n",
    "This is a short example about using the [isotree](https://www.github.com/david-cortes/isotree) library for fitting an isolation forest model and using this (unsupervised) fitted model for calculating the similarities between each pair of observations, which in turn can be used as a kernel for SVM (support vector machines) for supervised learning tasks.\n",
    "\n",
    "By default, the library calculates a distance metric between observations which is bounded between zero and one. Having these bounds, it can be easily turned into a similarity metric by simply calculating one minus this distance. This similarity metric satisfies the properties of a Hilbert space (https://en.wikipedia.org/wiki/Hilbert_space), being possible to use it as a kernel for support vector machines or as a feature generator.\n",
    "\n",
    "The library includes a function `set_reference_points` which can be used for repeated distance calculations against the same points. Note that this is however a typically very slow and memory-heavy operation, and as such is not recommended for large datasets.\n",
    "\n",
    "The example uses the \"splice scale\" dataset, which can be downloaded from [LibSVM dataset](https://www.csie.ntu.edu.tw/~cjlin/libsvmtools/datasets/). Note that, despite being offered in a sparse matrix format, the data is actually dense.\n",
    "\n",
    "---\n",
    "\n",
    "### Reading the data\n"
   ]
  },
  {
   "cell_type": "code",
   "execution_count": 11,
   "metadata": {},
   "outputs": [
    {
     "name": "stdout",
     "output_type": "stream",
     "text": [
      "(1000, 2)\n"
     ]
    }
   ],
   "source": [
    "from readsparse import read_sparse\n",
    "\n",
    "splice = read_sparse(\"splice_scale.txt\")\n",
    "y = (splice[\"y\"] == 1).astype(\"float64\")\n",
    "X = splice[\"X\"].toarray()\n",
    "X = X[:, 0:2]\n",
    "print(X.shape)\n"
   ]
  },
  {
   "cell_type": "code",
   "execution_count": 12,
   "metadata": {},
   "outputs": [
    {
     "name": "stdout",
     "output_type": "stream",
     "text": [
      "(1000,)\n"
     ]
    }
   ],
   "source": [
    "print(y.shape)"
   ]
  },
  {
   "attachments": {},
   "cell_type": "markdown",
   "metadata": {},
   "source": [
    "## Defining a kernel transformer from isolation forest\n"
   ]
  },
  {
   "cell_type": "code",
   "execution_count": 13,
   "metadata": {},
   "outputs": [
    {
     "name": "stdout",
     "output_type": "stream",
     "text": [
      "[1. 1. 1. 0. 0. 0. 1. 1. 1. 1. 0. 1. 0. 1. 1. 0. 1. 0. 0. 1. 0. 1. 0. 0.\n",
      " 1. 1. 0. 0. 1. 0. 1. 0. 1. 0. 1. 1. 0. 1. 0. 1. 1. 1. 0. 1. 0. 0. 1. 1.\n",
      " 0. 0. 1. 1. 1. 0. 1. 0. 0. 1. 0. 0. 0. 1. 0. 1. 0. 0. 0. 0. 1. 1. 0. 0.\n",
      " 1. 1. 1. 0. 1. 0. 1. 0. 1. 1. 1. 1. 1. 1. 1. 0. 1. 1. 1. 0. 0. 1. 0. 0.\n",
      " 0. 1. 0. 0. 0. 1. 1. 1. 1. 0. 1. 0. 1. 1. 0. 0. 1. 1. 0. 0. 1. 1. 1. 1.\n",
      " 1. 1. 0. 0. 0. 0. 1. 0. 0. 0. 1. 0. 0. 0. 0. 1. 1. 0. 1. 0. 0. 0. 1. 0.\n",
      " 1. 1. 1. 1. 1. 0. 1. 0. 0. 1. 1. 0. 0. 0. 1. 1. 0. 1. 1. 1. 1. 1. 1. 1.\n",
      " 0. 1. 0. 0. 1. 0. 1. 1. 1. 0. 0. 1. 0. 0. 1. 1. 1. 1. 1. 0. 1. 1. 1. 0.\n",
      " 0. 0. 0. 1. 1. 1. 0. 0. 0. 1. 0. 0. 0. 1. 0. 0. 1. 1. 0. 1. 1. 1. 1. 1.\n",
      " 0. 1. 1. 0. 1. 1. 1. 1. 1. 0. 0. 0. 1. 0. 0. 1. 1. 1. 0. 0. 0. 0. 1. 0.\n",
      " 0. 0. 0. 0. 1. 0. 1. 1. 0. 1. 0. 0. 0. 0. 0. 1. 0. 1. 0. 1. 0. 1. 0. 1.\n",
      " 1. 0. 1. 1. 0. 0. 0. 0. 1. 0. 0. 1. 1. 0. 0. 0. 1. 1. 1. 1. 0. 1. 0. 0.\n",
      " 1. 1. 0. 1. 0. 0. 1. 1. 1. 0. 1. 1. 0. 1. 0. 0. 1. 0. 0. 0. 0. 1. 1. 0.\n",
      " 0. 1. 1. 1. 1. 1. 0. 0. 0. 1. 0. 1. 0. 1. 1. 0. 1. 0. 0. 1. 1. 0. 0. 1.\n",
      " 0. 1. 0. 0. 0. 0. 0. 0. 0. 1. 0. 1. 0. 0. 1. 0. 0. 0. 0. 1. 0. 1. 0. 1.\n",
      " 1. 0. 1. 0. 0. 1. 0. 1. 1. 0. 0. 1. 1. 1. 1. 0. 0. 1. 0. 0. 0. 0. 0. 1.\n",
      " 1. 0. 1. 1. 0. 1. 1. 1. 1. 0. 0. 1. 1. 0. 1. 1. 1. 1. 1. 0. 1. 0. 1. 1.\n",
      " 1. 1. 0. 1. 0. 1. 0. 1. 0. 1. 0. 1. 0. 1. 1. 1. 1. 1. 0. 0. 0. 0. 0. 0.\n",
      " 0. 0. 0. 1. 0. 0. 1. 0. 1. 1. 0. 1. 1. 1. 1. 1. 0. 1. 1. 1. 0. 0. 1. 0.\n",
      " 1. 1. 0. 0. 1. 0. 0. 1. 0. 0. 1. 1. 1. 1. 1. 0. 1. 1. 0. 0. 1. 0. 1. 1.\n",
      " 1. 1. 1. 1. 0. 0. 1. 1. 0. 0. 0. 0. 1. 0. 1. 0. 1. 1. 1. 0. 0. 1. 1. 0.\n",
      " 0. 1. 0. 1. 0. 0. 0. 1. 1. 0. 1. 1. 1. 0. 1. 0. 1. 0. 1. 1. 1. 0. 1. 1.\n",
      " 1. 1. 0. 1. 1. 0. 0. 0. 0. 1. 1. 0. 1. 0. 0. 0. 1. 1. 0. 0. 0. 0. 1. 1.\n",
      " 0. 0. 1. 0. 1. 1. 1. 1. 1. 0. 1. 1. 1. 0. 1. 1. 0. 0. 0. 1. 0. 0. 0. 0.\n",
      " 1. 0. 0. 1. 1. 0. 0. 0. 0. 0. 1. 0. 0. 0. 0. 1. 1. 1. 1. 1. 1. 0. 0. 1.\n",
      " 0. 0. 1. 1. 1. 0. 1. 1. 0. 1. 1. 0. 0. 1. 0. 1. 1. 0. 0. 0. 1. 1. 1. 0.\n",
      " 1. 1. 1. 1. 0. 1. 0. 1. 0. 0. 0. 1. 1. 0. 1. 0. 1. 1. 1. 0. 1. 0. 0. 1.\n",
      " 1. 1. 0. 0. 1. 0. 1. 0. 1. 1. 1. 1. 1. 0. 0. 1. 1. 1. 0. 0. 1. 1. 0. 0.\n",
      " 1. 0. 1. 1. 1. 0. 1. 0. 1. 0. 1. 1. 1. 0. 0. 0. 1. 1. 1. 1. 1. 0. 0. 1.\n",
      " 0. 1. 0. 1. 1. 1. 1. 0. 1. 0. 0. 0. 1. 0. 0. 0. 0. 0. 1. 0. 0. 0. 1. 0.\n",
      " 0. 0. 1. 0. 1. 0. 1. 1. 0. 0. 0. 1. 1. 1. 0. 1. 1. 1. 0. 1. 0. 1. 1. 1.\n",
      " 0. 1. 0. 0. 1. 0. 1. 0. 1. 0. 0. 0. 0. 1. 0. 1. 0. 0. 0. 0. 1. 0. 0. 1.\n",
      " 0. 0. 1. 0. 0. 1. 1. 0. 1. 1. 1. 1. 0. 1. 1. 0. 0. 1. 1. 0. 1. 0. 0. 1.\n",
      " 0. 0. 1. 0. 0. 0. 1. 1. 1. 1. 1. 0. 1. 0. 0. 1. 0. 0. 0. 1. 0. 0. 0. 1.\n",
      " 1. 0. 0. 0. 0. 1. 1. 1. 0. 1. 0. 0. 0. 0. 1. 1. 0. 0. 1. 0. 1. 0. 1. 1.\n",
      " 1. 0. 1. 1. 1. 1. 1. 1. 0. 1. 0. 1. 0. 0. 1. 0. 0. 0. 0. 0. 1. 0. 0. 1.\n",
      " 1. 1. 1. 1. 1. 0. 1. 1. 0. 1. 0. 1. 0. 0. 1. 0. 1. 1. 1. 0. 0. 0. 1. 1.\n",
      " 0. 1. 0. 0. 0. 0. 0. 1. 0. 1. 0. 1. 1. 1. 1. 0. 0. 1. 0. 1. 1. 0. 1. 0.\n",
      " 0. 1. 1. 1. 1. 0. 0. 0. 1. 1. 0. 0. 0. 0. 0. 1. 0. 0. 1. 0. 1. 1. 1. 0.\n",
      " 0. 0. 1. 0. 0. 0. 1. 1. 0. 1. 0. 1. 1. 1. 1. 1. 1. 1. 1. 0. 1. 1. 1. 0.\n",
      " 1. 1. 1. 0. 0. 0. 0. 1. 0. 0. 1. 0. 1. 0. 1. 1. 0. 0. 1. 0. 0. 1. 0. 1.\n",
      " 1. 1. 0. 1. 0. 1. 1. 1. 0. 0. 1. 1. 1. 1. 1. 1.]\n"
     ]
    }
   ],
   "source": [
    "print(y)"
   ]
  },
  {
   "cell_type": "code",
   "execution_count": 14,
   "metadata": {},
   "outputs": [],
   "source": [
    "%matplotlib inline \n",
    "import numpy as np \n",
    "import matplotlib.pyplot as plt \n",
    "from scipy import stats \n",
    "# use seaborn plotting defaults \n",
    "import seaborn as sns; sns.set() "
   ]
  },
  {
   "cell_type": "code",
   "execution_count": 67,
   "metadata": {},
   "outputs": [
    {
     "data": {
      "image/png": "[encoded data removed]",
      "text/plain": [
       "<Figure size 432x288 with 1 Axes>"
      ]
     },
     "metadata": {},
     "output_type": "display_data"
    }
   ],
   "source": [
    "from sklearn.datasets import make_blobs \n",
    "X, y = make_blobs(n_samples=[100, 500], centers=[[3,3], [1,1]], \n",
    "                 random_state=0, cluster_std=[0.80, 1.0]) \n",
    "plt.scatter(X[:, 0], X[:, 1], c=y, s=50, cmap='autumn'); \n"
   ]
  },
  {
   "cell_type": "code",
   "execution_count": 68,
   "metadata": {},
   "outputs": [
    {
     "name": "stdout",
     "output_type": "stream",
     "text": [
      "(600, 2)\n",
      "(600,)\n"
     ]
    }
   ],
   "source": [
    "print(X.shape)\n",
    "print(y.shape)"
   ]
  },
  {
   "cell_type": "code",
   "execution_count": 333,
   "metadata": {},
   "outputs": [
    {
     "data": {
      "text/plain": [
       "SVC(C=10000000000.0, kernel='linear')"
      ]
     },
     "execution_count": 333,
     "metadata": {},
     "output_type": "execute_result"
    }
   ],
   "source": [
    "from sklearn.svm import SVC # \"Support vector classifier\" \n",
    "from sklearn.metrics.pairwise import laplacian_kernel\n",
    "\n",
    "model = SVC(kernel='linear', C=1E10) \n",
    "model.fit(X, y)"
   ]
  },
  {
   "cell_type": "code",
   "execution_count": 334,
   "metadata": {},
   "outputs": [
    {
     "data": {
      "text/plain": [
       "<bound method BaseSVC.decision_function of SVC(C=10000000000.0, kernel='linear')>"
      ]
     },
     "execution_count": 334,
     "metadata": {},
     "output_type": "execute_result"
    }
   ],
   "source": [
    "model.decision_function"
   ]
  },
  {
   "cell_type": "code",
   "execution_count": 335,
   "metadata": {},
   "outputs": [
    {
     "data": {
      "text/plain": [
       "array([[5.5, 3.5],\n",
       "       [4.5, 2.3],\n",
       "       [7. , 3.2],\n",
       "       [6.4, 3.2],\n",
       "       [6.9, 3.1],\n",
       "       [5.5, 2.3],\n",
       "       [6.5, 2.8],\n",
       "       [4.9, 2.4],\n",
       "       [6.6, 2.9],\n",
       "       [6.7, 3.1],\n",
       "       [5.6, 3. ],\n",
       "       [6.2, 2.2],\n",
       "       [6.6, 3. ],\n",
       "       [6.8, 2.8],\n",
       "       [6.7, 3. ],\n",
       "       [6. , 2.9],\n",
       "       [5.4, 3. ],\n",
       "       [6.7, 3.1],\n",
       "       [5.6, 3. ],\n",
       "       [5.5, 2.5],\n",
       "       [6.1, 3. ],\n",
       "       [5.7, 2.9],\n",
       "       [6.2, 2.9],\n",
       "       [5.1, 2.5],\n",
       "       [6.3, 3.3],\n",
       "       [5.8, 2.7],\n",
       "       [6.3, 2.9],\n",
       "       [6.5, 3. ],\n",
       "       [4.9, 2.5],\n",
       "       [6.5, 3.2],\n",
       "       [5.8, 2.8],\n",
       "       [6.4, 3.2],\n",
       "       [6.5, 3. ],\n",
       "       [6. , 2.2],\n",
       "       [6.9, 3.2],\n",
       "       [5.6, 2.8],\n",
       "       [6.3, 2.7],\n",
       "       [7.2, 3. ],\n",
       "       [6.3, 2.8],\n",
       "       [5.8, 2.7],\n",
       "       [6.3, 2.5],\n",
       "       [6.5, 3. ],\n",
       "       [5.9, 3. ]])"
      ]
     },
     "execution_count": 335,
     "metadata": {},
     "output_type": "execute_result"
    }
   ],
   "source": [
    "model.support_vectors_"
   ]
  },
  {
   "cell_type": "code",
   "execution_count": 336,
   "metadata": {},
   "outputs": [
    {
     "data": {
      "text/plain": [
       "<bound method BaseSVC.decision_function of SVC(C=10000000000.0, kernel='linear')>"
      ]
     },
     "execution_count": 336,
     "metadata": {},
     "output_type": "execute_result"
    }
   ],
   "source": [
    "model.decision_function"
   ]
  },
  {
   "cell_type": "code",
   "execution_count": 331,
   "metadata": {},
   "outputs": [],
   "source": [
    "def plot_svc_decision_function(model, ax=None, plot_support=True): \n",
    "   \"\"\"Plot the decision function for a 2D SVC\"\"\" \n",
    "   if ax is None: \n",
    "       ax = plt.gca() # Get the current Axes instance on the current figure mat ching the given keyword args, or create one. \n",
    "   xlim = ax.get_xlim() \n",
    "   ylim = ax.get_ylim() \n",
    "    \n",
    "   # create grid to evaluate model \n",
    "   x = np.linspace(xlim[0], xlim[1], 30) \n",
    "   y = np.linspace(ylim[0], ylim[1], 30) \n",
    "   Y, X = np.meshgrid(y, x) # 30 x 30 each \n",
    "   xy = np.vstack([X.ravel(), Y.ravel()]).T # 900 x 2 \n",
    "   print(\"size of xy\", xy.shape) \n",
    "    \n",
    "   P = model.decision_function(xy).reshape(X.shape) #model.decision_function(xy) return 900 x 1 \n",
    "   # Returns the decision function of the sample for each class in the model \n",
    "   print(\"size of P\", P.shape) # 30 x 30 \n",
    "   # plot decision boundary and margins   #  draw contour lines \n",
    "   ax.contour(X, Y, P, colors='k', \n",
    "              levels=[-1, 0, 1], alpha=0.5, \n",
    "              linestyles=['--', '-', '--']) \n",
    "    \n",
    "   # plot support vectors \n",
    "   if plot_support: \n",
    "       ax.scatter(model.support_vectors_[:, 0], \n",
    "                  model.support_vectors_[:, 1], \n",
    "                  s=50, linewidth=1, facecolors='Blue'); \n",
    "   ax.set_xlim(xlim) \n",
    "   ax.set_ylim(ylim) "
   ]
  },
  {
   "cell_type": "code",
   "execution_count": 332,
   "metadata": {},
   "outputs": [
    {
     "name": "stdout",
     "output_type": "stream",
     "text": [
      "size of xy (900, 2)\n"
     ]
    },
    {
     "ename": "ValueError",
     "evalue": "cannot reshape array of size 2700 into shape (30,30)",
     "output_type": "error",
     "traceback": [
      "\u001b[1;31m---------------------------------------------------------------------------\u001b[0m",
      "\u001b[1;31mValueError\u001b[0m                                Traceback (most recent call last)",
      "\u001b[1;32m~\\AppData\\Local\\Temp/ipykernel_10436/3319486610.py\u001b[0m in \u001b[0;36m<module>\u001b[1;34m\u001b[0m\n\u001b[0;32m      1\u001b[0m \u001b[0mplt\u001b[0m\u001b[1;33m.\u001b[0m\u001b[0mscatter\u001b[0m\u001b[1;33m(\u001b[0m\u001b[0mX\u001b[0m\u001b[1;33m[\u001b[0m\u001b[1;33m:\u001b[0m\u001b[1;33m,\u001b[0m \u001b[1;36m0\u001b[0m\u001b[1;33m]\u001b[0m\u001b[1;33m,\u001b[0m \u001b[0mX\u001b[0m\u001b[1;33m[\u001b[0m\u001b[1;33m:\u001b[0m\u001b[1;33m,\u001b[0m \u001b[1;36m1\u001b[0m\u001b[1;33m]\u001b[0m\u001b[1;33m,\u001b[0m \u001b[0mc\u001b[0m\u001b[1;33m=\u001b[0m\u001b[0my\u001b[0m\u001b[1;33m,\u001b[0m \u001b[0ms\u001b[0m\u001b[1;33m=\u001b[0m\u001b[1;36m50\u001b[0m\u001b[1;33m,\u001b[0m \u001b[0mcmap\u001b[0m\u001b[1;33m=\u001b[0m\u001b[1;34m'autumn'\u001b[0m\u001b[1;33m)\u001b[0m\u001b[1;33m\u001b[0m\u001b[1;33m\u001b[0m\u001b[0m\n\u001b[1;32m----> 2\u001b[1;33m \u001b[0mplot_svc_decision_function\u001b[0m\u001b[1;33m(\u001b[0m\u001b[0mmodel\u001b[0m\u001b[1;33m)\u001b[0m\u001b[1;33m;\u001b[0m\u001b[1;33m\u001b[0m\u001b[1;33m\u001b[0m\u001b[0m\n\u001b[0m",
      "\u001b[1;32m~\\AppData\\Local\\Temp/ipykernel_10436/823863463.py\u001b[0m in \u001b[0;36mplot_svc_decision_function\u001b[1;34m(model, ax, plot_support)\u001b[0m\n\u001b[0;32m     13\u001b[0m    \u001b[0mprint\u001b[0m\u001b[1;33m(\u001b[0m\u001b[1;34m\"size of xy\"\u001b[0m\u001b[1;33m,\u001b[0m \u001b[0mxy\u001b[0m\u001b[1;33m.\u001b[0m\u001b[0mshape\u001b[0m\u001b[1;33m)\u001b[0m\u001b[1;33m\u001b[0m\u001b[1;33m\u001b[0m\u001b[0m\n\u001b[0;32m     14\u001b[0m \u001b[1;33m\u001b[0m\u001b[0m\n\u001b[1;32m---> 15\u001b[1;33m    \u001b[0mP\u001b[0m \u001b[1;33m=\u001b[0m \u001b[0mmodel\u001b[0m\u001b[1;33m.\u001b[0m\u001b[0mdecision_function\u001b[0m\u001b[1;33m(\u001b[0m\u001b[0mxy\u001b[0m\u001b[1;33m)\u001b[0m\u001b[1;33m.\u001b[0m\u001b[0mreshape\u001b[0m\u001b[1;33m(\u001b[0m\u001b[0mX\u001b[0m\u001b[1;33m.\u001b[0m\u001b[0mshape\u001b[0m\u001b[1;33m)\u001b[0m \u001b[1;31m#model.decision_function(xy) return 900 x 1\u001b[0m\u001b[1;33m\u001b[0m\u001b[1;33m\u001b[0m\u001b[0m\n\u001b[0m\u001b[0;32m     16\u001b[0m    \u001b[1;31m# Returns the decision function of the sample for each class in the model\u001b[0m\u001b[1;33m\u001b[0m\u001b[1;33m\u001b[0m\u001b[0m\n\u001b[0;32m     17\u001b[0m    \u001b[0mprint\u001b[0m\u001b[1;33m(\u001b[0m\u001b[1;34m\"size of P\"\u001b[0m\u001b[1;33m,\u001b[0m \u001b[0mP\u001b[0m\u001b[1;33m.\u001b[0m\u001b[0mshape\u001b[0m\u001b[1;33m)\u001b[0m \u001b[1;31m# 30 x 30\u001b[0m\u001b[1;33m\u001b[0m\u001b[1;33m\u001b[0m\u001b[0m\n",
      "\u001b[1;31mValueError\u001b[0m: cannot reshape array of size 2700 into shape (30,30)"
     ]
    },
    {
     "data": {
      "image/png": "[encoded data removed]",
      "text/plain": [
       "<Figure size 432x288 with 1 Axes>"
      ]
     },
     "metadata": {},
     "output_type": "display_data"
    }
   ],
   "source": [
    "plt.scatter(X[:, 0], X[:, 1], c=y, s=50, cmap='autumn') \n",
    "plot_svc_decision_function(model);"
   ]
  },
  {
   "cell_type": "code",
   "execution_count": null,
   "metadata": {},
   "outputs": [],
   "source": []
  },
  {
   "cell_type": "code",
   "execution_count": 344,
   "metadata": {},
   "outputs": [
    {
     "name": "stdout",
     "output_type": "stream",
     "text": [
      "[[1.         0.70468809 0.70468809 ... 0.38674102 0.54881164 0.52204578]\n",
      " [0.70468809 1.         0.81873075 ... 0.44932896 0.42741493 0.60653066]\n",
      " [0.70468809 0.81873075 1.         ... 0.36787944 0.42741493 0.4965853 ]\n",
      " ...\n",
      " [0.38674102 0.44932896 0.36787944 ... 1.         0.70468809 0.74081822]\n",
      " [0.54881164 0.42741493 0.42741493 ... 0.70468809 1.         0.70468809]\n",
      " [0.52204578 0.60653066 0.4965853  ... 0.74081822 0.70468809 1.        ]]\n"
     ]
    }
   ],
   "source": [
    "import numpy as np\n",
    "import matplotlib.pyplot as plt\n",
    "from sklearn.datasets import load_iris\n",
    "from sklearn.svm import SVC\n",
    "from sklearn.metrics.pairwise import laplacian_kernel\n",
    "\n",
    "iris_data = load_iris()\n",
    "\n",
    "X = iris_data.data[:, :2]\n",
    "y = iris_data.target\n",
    "h = 0.02\n",
    "\n",
    "# K = 1.0 - iso.predict_distance(X, use_reference_points=True)\n",
    "K = laplacian_kernel(X,gamma=.5)\n",
    "print(K)\n",
    "svm = SVC(kernel='precomputed').fit(K, y)"
   ]
  },
  {
   "cell_type": "code",
   "execution_count": 345,
   "metadata": {},
   "outputs": [],
   "source": [
    "x_min, x_max = X[:, 0].min() - 1, X[:, 0].max() + 1\n",
    "y_min, y_max = X[:, 1].min() - 1, X[:, 1].max() + 1\n",
    "x_test = np.meshgrid(np.arange(x_min, x_max, h),\n",
    "                     np.arange(y_min, y_max, h))\n",
    "\n",
    "xx,yy = np.meshgrid(np.arange(x_min, x_max, h),np.arange(y_min, y_max, h))"
   ]
  },
  {
   "cell_type": "code",
   "execution_count": 347,
   "metadata": {},
   "outputs": [],
   "source": [
    "x_test = np.vstack([xx.ravel(),yy.ravel()]).T\n",
    "\n",
    "K_test = laplacian_kernel(x_test, X,  gamma=.5)\n",
    "Z = svm.predict(K_test)\n",
    "Z = Z.reshape(xx.shape)"
   ]
  },
  {
   "cell_type": "code",
   "execution_count": 349,
   "metadata": {},
   "outputs": [
    {
     "name": "stdout",
     "output_type": "stream",
     "text": [
      "(150,)\n"
     ]
    },
    {
     "data": {
      "image/png": "[encoded data removed]",
      "text/plain": [
       "<Figure size 432x288 with 2 Axes>"
      ]
     },
     "metadata": {},
     "output_type": "display_data"
    }
   ],
   "source": [
    "from sklearn.metrics import confusion_matrix, ConfusionMatrixDisplay\n",
    "\n",
    "Z1 = svm.predict(K)\n",
    "print(Z1.shape)\n",
    "cm = confusion_matrix(Z1, y)\n",
    "disp = ConfusionMatrixDisplay(confusion_matrix=cm, display_labels=[0, 1, 2])\n",
    "disp.plot()\n",
    "plt.grid(False)\n",
    "plt.show()\n",
    "# print(Z1)\n",
    "# print(y)"
   ]
  },
  {
   "cell_type": "code",
   "execution_count": 302,
   "metadata": {},
   "outputs": [
    {
     "data": {
      "text/plain": [
       "(1.0, 5.380000000000004)"
      ]
     },
     "execution_count": 302,
     "metadata": {},
     "output_type": "execute_result"
    },
    {
     "data": {
      "image/png": "[encoded data removed]",
      "text/plain": [
       "<Figure size 432x288 with 1 Axes>"
      ]
     },
     "metadata": {},
     "output_type": "display_data"
    }
   ],
   "source": [
    "plt.contourf(xx, yy, Z, cmap=plt.cm.cool, alpha=0.8)\n",
    "plt.scatter(X[:, 0], X[:, 1], c=y, cmap=plt.cm.winter)\n",
    "# plt.xlabel('Sepal length')\n",
    "# plt.ylabel('Sepal width')\n",
    "plt.xlim(xx.min(), xx.max())\n",
    "plt.ylim(yy.min(), yy.max())"
   ]
  },
  {
   "cell_type": "code",
   "execution_count": null,
   "metadata": {},
   "outputs": [],
   "source": []
  },
  {
   "cell_type": "code",
   "execution_count": 75,
   "metadata": {},
   "outputs": [],
   "source": [
    "from isotree import IsolationForest\n",
    "from sklearn.base import TransformerMixin, BaseEstimator\n",
    "\n",
    "\n",
    "class IsoDistKernel(TransformerMixin, BaseEstimator):\n",
    "    def __init__(self, isotree_params: dict = {}):\n",
    "        self.isotree_params = isotree_params\n",
    "\n",
    "    def fit(self, X, y=None, sample_weights=None):\n",
    "        self.iso_ = IsolationForest(**self.isotree_params)\n",
    "        self.iso_.fit(X).set_reference_points(X, with_distances=True)\n",
    "        return self\n",
    "\n",
    "    def transform(self, X):\n",
    "        D = self.iso_.predict_distance(X, use_reference_points=True)\n",
    "        return 1 - D\n"
   ]
  },
  {
   "attachments": {},
   "cell_type": "markdown",
   "metadata": {},
   "source": [
    "# Evaluating results with this kernel\n",
    "\n",
    "Note that while typically most SVM libraries manually calculate a set of predefined kernels, software such as LibSVM (and by extension scikit-learn which uses it behind the hood) or ThunderSVM allow passing a precomputed kernel as data instead of the original points, which is a square matrix with dimension equal to the number of observations.\n",
    "\n",
    "The results here are evaluated by a randomized and stratified 5-fold cross-validation.\n"
   ]
  },
  {
   "cell_type": "code",
   "execution_count": 76,
   "metadata": {},
   "outputs": [
    {
     "name": "stdout",
     "output_type": "stream",
     "text": [
      "Cross-validation results (distance isolation kernel):\n",
      "{'fit_time': array([0.10379696, 0.08725548, 0.08275962, 0.07018161, 0.07418704]),\n",
      " 'score_time': array([0.02309585, 0.01905489, 0.02479601, 0.01502895, 0.02256966]),\n",
      " 'test_score': array([0.999, 0.985, 0.99 , 0.998, 0.989])}\n",
      "----\n",
      "Mean CV AUROC: 0.9922\n"
     ]
    }
   ],
   "source": [
    "from sklearn.svm import SVC\n",
    "from sklearn.pipeline import make_pipeline\n",
    "from sklearn.model_selection import StratifiedKFold\n",
    "from sklearn.model_selection import cross_validate\n",
    "from pprint import pprint\n",
    "\n",
    "model = make_pipeline(\n",
    "    IsoDistKernel(\n",
    "        {\"ndim\": 1, \"sample_size\": 256, \"ntrees\": 250, \"missing_action\": \"fail\"}\n",
    "    ),\n",
    "    SVC(kernel=\"precomputed\"),\n",
    ")\n",
    "cv_res_iso = cross_validate(\n",
    "    estimator=model,\n",
    "    X=X,\n",
    "    y=y,\n",
    "    scoring=\"roc_auc\",\n",
    "    n_jobs=1,\n",
    "    cv=StratifiedKFold(n_splits=5, shuffle=True, random_state=1),\n",
    ")\n",
    "print(\"Cross-validation results (distance isolation kernel):\")\n",
    "pprint(cv_res_iso)\n",
    "print(\"----\")\n",
    "print(\"Mean CV AUROC: %.4f\" % cv_res_iso[\"test_score\"].mean())\n"
   ]
  },
  {
   "attachments": {},
   "cell_type": "markdown",
   "metadata": {},
   "source": [
    "A natural question is how good was the addition of this kernel compared to something simpler. As will be seen, results are better with the isolation kernel than with the default Gaussian RBF kernel used by this library:\n"
   ]
  },
  {
   "cell_type": "code",
   "execution_count": 77,
   "metadata": {},
   "outputs": [
    {
     "name": "stdout",
     "output_type": "stream",
     "text": [
      "Cross-validation results (default RBF kernel):\n",
      "{'fit_time': array([0.00400615, 0.0035789 , 0.0056107 , 0.0050838 , 0.0060823 ]),\n",
      " 'score_time': array([0.00383687, 0.00324726, 0.00299883, 0.00350738, 0.0035181 ]),\n",
      " 'test_score': array([1.    , 0.981 , 0.976 , 0.9865, 0.987 ])}\n",
      "----\n",
      "Mean CV AUROC: 0.9861\n"
     ]
    }
   ],
   "source": [
    "### Compare against a simpler kernel\n",
    "from sklearn.metrics.pairwise import laplacian_kernel\n",
    "\n",
    "\n",
    "cv_res_plain_kernel = cross_validate(\n",
    "    estimator=SVC(kernel='lap'),\n",
    "    X=X,\n",
    "    y=y,\n",
    "    scoring=\"roc_auc\",\n",
    "    n_jobs=-1,\n",
    "    cv=StratifiedKFold(n_splits=5, shuffle=True, random_state=1),\n",
    ")\n",
    "print(\"Cross-validation results (default RBF kernel):\")\n",
    "pprint(cv_res_plain_kernel)\n",
    "print(\"----\")\n",
    "print(\"Mean CV AUROC: %.4f\" % cv_res_plain_kernel[\"test_score\"].mean())\n"
   ]
  },
  {
   "attachments": {},
   "cell_type": "markdown",
   "metadata": {},
   "source": [
    "## More efficient calculation for fitted model\n",
    "\n",
    "While the input to the model is a kernel matrix with number of columns corresponding to the number of observations to which it was fitted, in practice SVM models only end up using a fraction of the total observations in their prediction formula (these are the so-called \"support vectors\").\n",
    "\n",
    "As such, once one has a fitted model and wants to make predictions on new data, it is not necessary (nor beneficial) to calculate distances from the new observations to every single point that was in the training data - only distances with respect to support vectors are needed.\n",
    "\n",
    "The software used here (scikit-learn) unfortunately does not have any option for automatically telling the model methods to \"shrink\" their input requirements, but it is nevertheless easy to re-create the formula manually:\n"
   ]
  },
  {
   "cell_type": "code",
   "execution_count": 158,
   "metadata": {},
   "outputs": [],
   "source": [
    "from sklearn.datasets import make_classification\n",
    "from sklearn.datasets import make_blobs\n",
    "from sklearn.datasets import make_gaussian_quantiles\n",
    "\n",
    "X, y = make_gaussian_quantiles(n_features=2, n_classes=2, n_samples=200)"
   ]
  },
  {
   "cell_type": "code",
   "execution_count": 295,
   "metadata": {},
   "outputs": [
    {
     "name": "stdout",
     "output_type": "stream",
     "text": [
      "(150, 150)\n",
      "Prediction from automated call to 'decision_function':\n",
      "[ 2.24520911  0.83050211 -0.212032    2.21093592  1.03980108 -0.21674092\n",
      "  2.23754481  0.89312095 -0.2225148   2.23661039  0.90553708 -0.22407283\n",
      "  2.24855317  0.81682914 -0.21041917  2.23853303 -0.18968641  0.8184814\n",
      "  2.24366446  0.85467164 -0.22012322  2.24206766  0.84742806 -0.2146371\n",
      "  2.22220791  0.95400959 -0.21594424  2.22349073  0.96921845 -0.21968039]\n"
     ]
    },
    {
     "name": "stderr",
     "output_type": "stream",
     "text": [
      "d:\\anaconda3\\lib\\site-packages\\isotree\\__init__.py:1910: UserWarning: Model was meant to take 3 variables for each split, but data has 2 columns. Will decrease number of splitting variables to match number of columns.\n",
      "  warnings.warn(msg)\n"
     ]
    }
   ],
   "source": [
    "iso = IsolationForest().fit(X).set_reference_points(X, with_distances=True)\n",
    "K = 1 - iso.predict_distance(X, use_reference_points=True)\n",
    "svm = SVC(kernel=\"precomputed\").fit(K, y)\n",
    "print(K.shape)\n",
    "p_auto = svm.decision_function(K[:10]).reshape(-1)\n",
    "print(\"Prediction from automated call to 'decision_function':\")\n",
    "print(p_auto)"
   ]
  },
  {
   "cell_type": "code",
   "execution_count": 276,
   "metadata": {},
   "outputs": [
    {
     "name": "stdout",
     "output_type": "stream",
     "text": [
      "[[0.96721908 0.70290422 0.7544651  ... 0.5334835  0.64299901 0.62499025]\n",
      " [0.70290422 0.96542196 0.84276438 ... 0.55956531 0.59133234 0.69938269]\n",
      " [0.7544651  0.84276438 0.96522968 ... 0.48665523 0.55310742 0.61417996]\n",
      " ...\n",
      " [0.5334835  0.55956531 0.48665523 ... 0.96767039 0.74615847 0.82983574]\n",
      " [0.64299901 0.59133234 0.55310742 ... 0.74615847 0.96200377 0.76068214]\n",
      " [0.62499025 0.69938269 0.61417996 ... 0.82983574 0.76068214 0.96715085]]\n"
     ]
    }
   ],
   "source": [
    "print(K)\n",
    "# plt.scatter(K[:, 0], K[:, 1], c=y, s=50, cmap='autumn');"
   ]
  },
  {
   "cell_type": "code",
   "execution_count": 277,
   "metadata": {},
   "outputs": [
    {
     "name": "stdout",
     "output_type": "stream",
     "text": [
      "[[4.9 3. ]\n",
      " [4.4 2.9]\n",
      " [4.8 3. ]\n",
      " [5.8 4. ]\n",
      " [5.7 4.4]\n",
      " [5.7 3.8]\n",
      " [5.4 3.4]\n",
      " [5.1 3.3]\n",
      " [5.  3. ]\n",
      " [5.4 3.4]\n",
      " [4.9 3.1]\n",
      " [5.  3.2]\n",
      " [5.5 3.5]\n",
      " [4.5 2.3]\n",
      " [4.8 3. ]\n",
      " [7.  3.2]\n",
      " [6.4 3.2]\n",
      " [6.9 3.1]\n",
      " [5.5 2.3]\n",
      " [6.5 2.8]\n",
      " [6.3 3.3]\n",
      " [4.9 2.4]\n",
      " [6.6 2.9]\n",
      " [5.2 2.7]\n",
      " [5.  2. ]\n",
      " [5.9 3. ]\n",
      " [6.  2.2]\n",
      " [6.1 2.9]\n",
      " [5.6 2.9]\n",
      " [6.7 3.1]\n",
      " [5.6 3. ]\n",
      " [5.8 2.7]\n",
      " [6.2 2.2]\n",
      " [5.6 2.5]\n",
      " [5.9 3.2]\n",
      " [6.1 2.8]\n",
      " [6.3 2.5]\n",
      " [6.1 2.8]\n",
      " [6.4 2.9]\n",
      " [6.6 3. ]\n",
      " [6.8 2.8]\n",
      " [6.7 3. ]\n",
      " [6.  2.9]\n",
      " [5.7 2.6]\n",
      " [5.8 2.7]\n",
      " [6.  2.7]\n",
      " [5.4 3. ]\n",
      " [6.  3.4]\n",
      " [6.7 3.1]\n",
      " [6.3 2.3]\n",
      " [5.6 3. ]\n",
      " [6.1 3. ]\n",
      " [5.8 2.6]\n",
      " [5.  2.3]\n",
      " [5.7 3. ]\n",
      " [5.7 2.9]\n",
      " [6.2 2.9]\n",
      " [5.1 2.5]\n",
      " [5.7 2.8]\n",
      " [6.3 3.3]\n",
      " [5.8 2.7]\n",
      " [7.1 3. ]\n",
      " [6.3 2.9]\n",
      " [6.5 3. ]\n",
      " [4.9 2.5]\n",
      " [6.7 2.5]\n",
      " [7.2 3.6]\n",
      " [6.5 3.2]\n",
      " [6.4 2.7]\n",
      " [6.8 3. ]\n",
      " [5.7 2.5]\n",
      " [5.8 2.8]\n",
      " [6.4 3.2]\n",
      " [6.5 3. ]\n",
      " [7.7 3.8]\n",
      " [7.7 2.6]\n",
      " [6.  2.2]\n",
      " [6.9 3.2]\n",
      " [5.6 2.8]\n",
      " [6.3 2.7]\n",
      " [6.2 2.8]\n",
      " [6.1 3. ]\n",
      " [6.4 2.8]\n",
      " [7.9 3.8]\n",
      " [6.4 2.8]\n",
      " [6.3 2.8]\n",
      " [6.1 2.6]\n",
      " [6.3 3.4]\n",
      " [6.4 3.1]\n",
      " [6.  3. ]\n",
      " [6.9 3.1]\n",
      " [6.7 3.1]\n",
      " [5.8 2.7]\n",
      " [6.7 3.3]\n",
      " [6.7 3. ]\n",
      " [6.3 2.5]\n",
      " [6.5 3. ]\n",
      " [6.2 3.4]\n",
      " [5.9 3. ]]\n"
     ]
    }
   ],
   "source": [
    "sv = [X[t] for t in svm.support_]\n",
    "sv = np.array(sv)\n",
    "print(sv)"
   ]
  },
  {
   "cell_type": "code",
   "execution_count": 288,
   "metadata": {},
   "outputs": [
    {
     "name": "stdout",
     "output_type": "stream",
     "text": [
      "Number of reference points picked: 99\n",
      "(10, 99)\n",
      "Prediction from manual formula using only selected reference points:\n",
      "[[-0.35883464 -0.14451553]\n",
      " [-0.65343675  0.27113589]\n",
      " [-0.25032723  0.19397085]\n",
      " [-0.18088457  0.36930187]\n",
      " [-0.15832215 -0.04673246]\n",
      " [-0.09003574  0.09320714]\n",
      " [-0.02394782  0.17740309]\n",
      " [-0.36744392 -0.1344589 ]\n",
      " [ 0.07985545  0.87567585]\n",
      " [-0.60672168  0.04838764]]\n"
     ]
    }
   ],
   "source": [
    "idx_used = svm.support_\n",
    "print(\"Number of reference points picked: %d\" % idx_used.shape[0])\n",
    "iso.set_reference_points(X[idx_used], with_distances=True)\n",
    "K_used = 1.0 - iso.predict_distance(X[:10], use_reference_points=True)\n",
    "p_manual = K_used.dot(svm.dual_coef_.reshape(-1,2)) + svm.intercept_[0]\n",
    "print(\"Prediction from manual formula using only selected reference points:\")\n",
    "print(p_manual)\n"
   ]
  },
  {
   "cell_type": "code",
   "execution_count": 289,
   "metadata": {},
   "outputs": [
    {
     "name": "stdout",
     "output_type": "stream",
     "text": [
      "Prediction from manual formula using only selected reference points:\n",
      "[[-0.35883464 -0.14451553]\n",
      " [-0.65343675  0.27113589]\n",
      " [-0.25032723  0.19397085]\n",
      " [-0.18088457  0.36930187]\n",
      " [-0.15832215 -0.04673246]\n",
      " [-0.09003574  0.09320714]\n",
      " [-0.02394782  0.17740309]\n",
      " [-0.36744392 -0.1344589 ]\n",
      " [ 0.07985545  0.87567585]\n",
      " [-0.60672168  0.04838764]]\n"
     ]
    }
   ],
   "source": [
    "x1 = np.array(X[0:10])\n",
    "K_used1 = 1.0 - iso.predict_distance(x1, use_reference_points=True)\n",
    "p_manual1 = K_used1.dot(svm.dual_coef_.reshape(-1,2)) + svm.intercept_[0]\n",
    "print(\"Prediction from manual formula using only selected reference points:\")\n",
    "print(p_manual1)"
   ]
  },
  {
   "cell_type": "code",
   "execution_count": 291,
   "metadata": {},
   "outputs": [],
   "source": [
    "def plot_svc_decision_function_2(model, sv, ax=None, plot_support=True): \n",
    "    \"\"\"Plot the decision function for a 2D SVC\"\"\" \n",
    "    if ax is None: \n",
    "        ax = plt.gca() # Get the current Axes instance on the current figure mat ching the given keyword args, or create one. \n",
    "    xlim = ax.get_xlim() \n",
    "    ylim = ax.get_ylim() \n",
    "\n",
    "    # create grid to evaluate model \n",
    "    x = np.linspace(xlim[0], xlim[1], 20) \n",
    "    y = np.linspace(ylim[0], ylim[1], 20) \n",
    "    Y, X = np.meshgrid(y, x) # 30 x 30 each \n",
    "    xy = np.vstack([X.ravel(), Y.ravel()]).T # 900 x 2 \n",
    "    print(\"size of xy\", xy.shape)\n",
    "\n",
    "    K_used = 1.0 - iso.predict_distance(xy, use_reference_points=True)\n",
    "    p_manual = K_used.dot(svm.dual_coef_.reshape(-1,2)) + svm.intercept_[0]\n",
    "    print(p_manual.shape)\n",
    "    \n",
    "    # P = model.decision_function(xy).reshape(X.shape) #model.decision_function(xy) return 900 x 1 \n",
    "    P = p_manual.reshape(X.shape)\n",
    "    # Returns the decision function of the sample for each class in the model \n",
    "    print(\"size of P\", P.shape) # 30 x 30 \n",
    "    # plot decision boundary and margins   #  draw contour lines \n",
    "    ax.contour(X, Y, P, colors='k', \n",
    "                levels=[-1, 0, 1], alpha=0.5, \n",
    "                linestyles=['--', '-', '--']) \n",
    "\n",
    "    # plot support vectors \n",
    "    if plot_support: \n",
    "        ax.scatter(sv[:, 0], \n",
    "                    sv[:, 1], \n",
    "                    s=100, linewidth=1, facecolors='Blue'); \n",
    "    ax.set_xlim(xlim) \n",
    "    ax.set_ylim(ylim) "
   ]
  },
  {
   "cell_type": "code",
   "execution_count": 292,
   "metadata": {},
   "outputs": [
    {
     "name": "stdout",
     "output_type": "stream",
     "text": [
      "size of xy (400, 2)\n",
      "(400, 2)\n"
     ]
    },
    {
     "ename": "ValueError",
     "evalue": "cannot reshape array of size 800 into shape (20,20)",
     "output_type": "error",
     "traceback": [
      "\u001b[1;31m---------------------------------------------------------------------------\u001b[0m",
      "\u001b[1;31mValueError\u001b[0m                                Traceback (most recent call last)",
      "\u001b[1;32m~\\AppData\\Local\\Temp/ipykernel_10436/1670740069.py\u001b[0m in \u001b[0;36m<module>\u001b[1;34m\u001b[0m\n\u001b[0;32m      1\u001b[0m \u001b[0mplt\u001b[0m\u001b[1;33m.\u001b[0m\u001b[0mscatter\u001b[0m\u001b[1;33m(\u001b[0m\u001b[0mX\u001b[0m\u001b[1;33m[\u001b[0m\u001b[1;33m:\u001b[0m\u001b[1;33m,\u001b[0m \u001b[1;36m0\u001b[0m\u001b[1;33m]\u001b[0m\u001b[1;33m,\u001b[0m \u001b[0mX\u001b[0m\u001b[1;33m[\u001b[0m\u001b[1;33m:\u001b[0m\u001b[1;33m,\u001b[0m \u001b[1;36m1\u001b[0m\u001b[1;33m]\u001b[0m\u001b[1;33m,\u001b[0m \u001b[0mc\u001b[0m\u001b[1;33m=\u001b[0m\u001b[0my\u001b[0m\u001b[1;33m,\u001b[0m \u001b[0ms\u001b[0m\u001b[1;33m=\u001b[0m\u001b[1;36m50\u001b[0m\u001b[1;33m,\u001b[0m \u001b[0mcmap\u001b[0m\u001b[1;33m=\u001b[0m\u001b[1;34m'autumn'\u001b[0m\u001b[1;33m)\u001b[0m\u001b[1;33m\u001b[0m\u001b[1;33m\u001b[0m\u001b[0m\n\u001b[1;32m----> 2\u001b[1;33m \u001b[0mplot_svc_decision_function_2\u001b[0m\u001b[1;33m(\u001b[0m\u001b[0msvm\u001b[0m\u001b[1;33m,\u001b[0m \u001b[0msv\u001b[0m\u001b[1;33m)\u001b[0m\u001b[1;33m\u001b[0m\u001b[1;33m\u001b[0m\u001b[0m\n\u001b[0m",
      "\u001b[1;32m~\\AppData\\Local\\Temp/ipykernel_10436/1026657344.py\u001b[0m in \u001b[0;36mplot_svc_decision_function_2\u001b[1;34m(model, sv, ax, plot_support)\u001b[0m\n\u001b[0;32m     18\u001b[0m \u001b[1;33m\u001b[0m\u001b[0m\n\u001b[0;32m     19\u001b[0m     \u001b[1;31m# P = model.decision_function(xy).reshape(X.shape) #model.decision_function(xy) return 900 x 1\u001b[0m\u001b[1;33m\u001b[0m\u001b[1;33m\u001b[0m\u001b[0m\n\u001b[1;32m---> 20\u001b[1;33m     \u001b[0mP\u001b[0m \u001b[1;33m=\u001b[0m \u001b[0mp_manual\u001b[0m\u001b[1;33m.\u001b[0m\u001b[0mreshape\u001b[0m\u001b[1;33m(\u001b[0m\u001b[0mX\u001b[0m\u001b[1;33m.\u001b[0m\u001b[0mshape\u001b[0m\u001b[1;33m)\u001b[0m\u001b[1;33m\u001b[0m\u001b[1;33m\u001b[0m\u001b[0m\n\u001b[0m\u001b[0;32m     21\u001b[0m     \u001b[1;31m# Returns the decision function of the sample for each class in the model\u001b[0m\u001b[1;33m\u001b[0m\u001b[1;33m\u001b[0m\u001b[0m\n\u001b[0;32m     22\u001b[0m     \u001b[0mprint\u001b[0m\u001b[1;33m(\u001b[0m\u001b[1;34m\"size of P\"\u001b[0m\u001b[1;33m,\u001b[0m \u001b[0mP\u001b[0m\u001b[1;33m.\u001b[0m\u001b[0mshape\u001b[0m\u001b[1;33m)\u001b[0m \u001b[1;31m# 30 x 30\u001b[0m\u001b[1;33m\u001b[0m\u001b[1;33m\u001b[0m\u001b[0m\n",
      "\u001b[1;31mValueError\u001b[0m: cannot reshape array of size 800 into shape (20,20)"
     ]
    },
    {
     "data": {
      "image/png": "[encoded data removed]",
      "text/plain": [
       "<Figure size 432x288 with 1 Axes>"
      ]
     },
     "metadata": {},
     "output_type": "display_data"
    }
   ],
   "source": [
    "plt.scatter(X[:, 0], X[:, 1], c=y, s=50, cmap='autumn') \n",
    "plot_svc_decision_function_2(svm, sv)"
   ]
  },
  {
   "attachments": {},
   "cell_type": "markdown",
   "metadata": {},
   "source": [
    "## Sub-sampled kernel\n",
    "\n",
    "While SVM models typically involve efficient optimization routines for square kernel matrices which end up identifying the best reference points (support vectors) to use in the final prediction formula, it is also possible to use the trick with a plain generalized linear model such as logistic regression by instead supplying features that are the kernels with respect to randomly-sampled points within the data.\n",
    "\n",
    "This is faster to calculate as a kernel, but typically the results are not as good quality as when using a full square matrix, since the support vectors are randomly-chosen.\n"
   ]
  },
  {
   "cell_type": "code",
   "execution_count": null,
   "metadata": {},
   "outputs": [
    {
     "name": "stdout",
     "output_type": "stream",
     "text": [
      "Cross-validation results (randomly sub-sampled distance isolation kernel):\n",
      "{'fit_time': array([0.09652162, 0.07552147, 0.07251787, 0.06551313, 0.07151604]),\n",
      " 'score_time': array([0.01500034, 0.01600146, 0.01400042, 0.01299882, 0.0129981 ]),\n",
      " 'test_score': array([1., 1., 1., 1., 1.])}\n",
      "----\n",
      "Mean CV AUROC: 1.0000\n"
     ]
    }
   ],
   "source": [
    "from sklearn.linear_model import LogisticRegression\n",
    "import numpy as np\n",
    "\n",
    "\n",
    "class IsoSubSampledDistKernel(TransformerMixin, BaseEstimator):\n",
    "    def __init__(self, isotree_params: dict = {}, n_samples=250, random_state=None):\n",
    "        self.isotree_params = isotree_params\n",
    "        self.n_samples = n_samples\n",
    "        self.random_state = random_state\n",
    "\n",
    "    def fit(self, X, y=None, sample_weights=None):\n",
    "        self.iso_ = IsolationForest(**self.isotree_params)\n",
    "        self.iso_.fit(X)\n",
    "        rng = np.random.default_rng(seed=self.random_state)\n",
    "        idx_random = rng.choice(X.shape[0], size=self.n_samples)\n",
    "        self.iso_.set_reference_points(X[idx_random], with_distances=True)\n",
    "        return self\n",
    "\n",
    "    def transform(self, X):\n",
    "        D = self.iso_.predict_distance(X, use_reference_points=True)\n",
    "        return 1 - D\n",
    "\n",
    "\n",
    "model_subsampled = make_pipeline(\n",
    "    IsoSubSampledDistKernel(\n",
    "        {\"ndim\": 1, \"sample_size\": 256, \"ntrees\": 250, \"missing_action\": \"fail\"},\n",
    "        n_samples=250,\n",
    "        random_state=456,\n",
    "    ),\n",
    "    LogisticRegression(solver=\"lbfgs\", max_iter=10000),\n",
    ")\n",
    "cv_res_iso_subsampled = cross_validate(\n",
    "    estimator=model_subsampled,\n",
    "    X=X,\n",
    "    y=y,\n",
    "    scoring=\"roc_auc\",\n",
    "    n_jobs=1,\n",
    "    cv=StratifiedKFold(n_splits=5, shuffle=True, random_state=1),\n",
    ")\n",
    "print(\"Cross-validation results (randomly sub-sampled distance isolation kernel):\")\n",
    "pprint(cv_res_iso_subsampled)\n",
    "print(\"----\")\n",
    "print(\"Mean CV AUROC: %.4f\" % cv_res_iso_subsampled[\"test_score\"].mean())\n"
   ]
  },
  {
   "cell_type": "code",
   "execution_count": null,
   "metadata": {},
   "outputs": [],
   "source": []
  }
 ],
 "metadata": {
  "kernelspec": {
   "display_name": "tf-keras-gpu-test",
   "language": "python",
   "name": "python3"
  },
  "language_info": {
   "codemirror_mode": {
    "name": "ipython",
    "version": 3
   },
   "file_extension": ".py",
   "mimetype": "text/x-python",
   "name": "python",
   "nbconvert_exporter": "python",
   "pygments_lexer": "ipython3",
   "version": "3.9.7"
  },
  "toc": {
   "base_numbering": 1,
   "nav_menu": {},
   "number_sections": true,
   "sideBar": true,
   "skip_h1_title": false,
   "title_cell": "Table of Contents",
   "title_sidebar": "Contents",
   "toc_cell": false,
   "toc_position": {},
   "toc_section_display": true,
   "toc_window_display": false
  }
 },
 "nbformat": 4,
 "nbformat_minor": 4
}
